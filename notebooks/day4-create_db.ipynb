{
 "cells": [
  {
   "cell_type": "code",
   "execution_count": 2,
   "id": "f9bc989f",
   "metadata": {},
   "outputs": [],
   "source": [
    "import os\n",
    "import docx\n",
    "import pymupdf\n",
    "import json\n",
    "import faiss\n",
    "\n",
    "from langchain_google_genai import GoogleGenerativeAIEmbeddings\n",
    "from langchain_community.docstore.in_memory import InMemoryDocstore\n",
    "from langchain_community.vectorstores import FAISS\n",
    "from langchain_text_splitters import RecursiveCharacterTextSplitter, CharacterTextSplitter\n",
    "from langchain.docstore.document import Document"
   ]
  },
  {
   "cell_type": "markdown",
   "id": "f5c79673",
   "metadata": {},
   "source": [
    "# **初始化 vector store**"
   ]
  },
  {
   "cell_type": "code",
   "execution_count": 3,
   "id": "88145815",
   "metadata": {},
   "outputs": [],
   "source": [
    "embeddings = GoogleGenerativeAIEmbeddings(model=\"models/gemini-embedding-001\")\n",
    "\n",
    "index = faiss.IndexFlatL2(len(embeddings.embed_query(\"test\")))  # faiss.IndexIVF, faiss.IndexIVFPQ\n",
    "    \n",
    "vector_store = FAISS(\n",
    "    embedding_function=embeddings,\n",
    "    index=index,\n",
    "    docstore=InMemoryDocstore(),\n",
    "    index_to_docstore_id={},\n",
    ")"
   ]
  },
  {
   "cell_type": "markdown",
   "id": "4a6a42fa",
   "metadata": {},
   "source": [
    "# **Chunking**\n",
    "Strategies (example):\n",
    "- `.txt` and `.docx`: sliding window\n",
    "- `.md`: recursive split \n",
    "- `.pdf`: llm based split\n",
    "- `.json`: pure qa pairs"
   ]
  },
  {
   "cell_type": "markdown",
   "id": "f8aef69d",
   "metadata": {},
   "source": [
    "### **Load Markdown**"
   ]
  },
  {
   "cell_type": "code",
   "execution_count": 4,
   "id": "ba6b43cb",
   "metadata": {},
   "outputs": [],
   "source": [
    "def get_md_chunks(text: str) -> list:\n",
    "    text = text.replace(\"###\", \"---h3---\").replace(\"##\", \"---h2---\").replace(\"#\", \"---h1---\").replace(\"\\n\\n\", \"\\n\")\n",
    "    recursive_splitter_md = RecursiveCharacterTextSplitter(separators=[\"---h2---\", \"---h3---\", \"\\n\"], chunk_size=256)\n",
    "    md_chunks = recursive_splitter_md.split_text(text)\n",
    "    return md_chunks"
   ]
  },
  {
   "cell_type": "markdown",
   "id": "a6573b45",
   "metadata": {},
   "source": [
    "### **Load Pdf**"
   ]
  },
  {
   "cell_type": "code",
   "execution_count": 5,
   "id": "a904fa54",
   "metadata": {},
   "outputs": [],
   "source": [
    "from langchain_google_genai import GoogleGenerativeAI\n",
    "from langchain.prompts import PromptTemplate\n",
    "\n",
    "prompt_template = PromptTemplate.from_template(\"\"\"\n",
    "    請整理以下文字，用專案主題：<專案主題>\\n**標題：<標題>內容：<內容>**\\n\\n**標題：<標題>內容：<內容>**\\n\\n ...... 的格式回傳。{pdf_text}\"\"\")\n",
    "pdf_arranger = prompt_template | GoogleGenerativeAI(model=\"gemini-2.5-flash-lite\")\n",
    "\n",
    "def get_pdf_chunks(text: str) -> list:\n",
    "    formatted_text = pdf_arranger.invoke({\"pdf_text\": text})\n",
    "    splitter = RecursiveCharacterTextSplitter(separators=[\"\\n\\n\", \"\\n\"], chunk_size=256, chunk_overlap=128)\n",
    "    pdf_chunks = splitter.split_text(formatted_text)\n",
    "    return pdf_chunks"
   ]
  },
  {
   "cell_type": "markdown",
   "id": "1e894c1c",
   "metadata": {},
   "source": [
    "### **Load Docx and txt**"
   ]
  },
  {
   "cell_type": "code",
   "execution_count": 6,
   "id": "55df40df",
   "metadata": {},
   "outputs": [],
   "source": [
    "def get_docx_and_txt_chunks(text: str) -> list:\n",
    "    splitter = CharacterTextSplitter(chunk_size=256, chunk_overlap=128, separator=\"\\n\")\n",
    "    txt_chunks = splitter.split_text(text)\n",
    "    return txt_chunks"
   ]
  },
  {
   "cell_type": "markdown",
   "id": "19cd0914",
   "metadata": {},
   "source": [
    "### **Load Json**"
   ]
  },
  {
   "cell_type": "code",
   "execution_count": 7,
   "id": "ab3261d0",
   "metadata": {},
   "outputs": [],
   "source": [
    "def get_json_chunks(data: dict) -> list:\n",
    "    return [str(item) for item in data]"
   ]
  },
  {
   "cell_type": "markdown",
   "id": "f270ce68",
   "metadata": {},
   "source": [
    "# **Add Documents**"
   ]
  },
  {
   "cell_type": "code",
   "execution_count": 8,
   "id": "bcdbeca8",
   "metadata": {},
   "outputs": [],
   "source": [
    "import time \n",
    "\n",
    "docs = []\n",
    "ids = []\n",
    "\n",
    "for file in os.listdir(\"../raw_database\"):\n",
    "    file_path = os.path.join(\"../raw_database\", file)\n",
    "    if file.endswith(\".txt\"):\n",
    "        with open(file_path, \"r\", encoding=\"utf-8\") as f:\n",
    "            text = f.read()\n",
    "        chunks = get_docx_and_txt_chunks(text)\n",
    "    elif file.endswith(\".docx\"):\n",
    "        doc = docx.Document(file_path)\n",
    "        text = \"\\n\".join(paragraph.text for paragraph in doc.paragraphs)\n",
    "        chunks = get_docx_and_txt_chunks(text)\n",
    "    elif file.endswith(\".md\"):\n",
    "        with open(file_path, \"r\", encoding=\"utf-8\") as f:\n",
    "            text = f.read()\n",
    "        chunks = get_md_chunks(text)\n",
    "    elif file.endswith(\".pdf\"):\n",
    "        doc = pymupdf.open(file_path)\n",
    "        text = \"\\n\".join(page.get_text() for page in doc)\n",
    "        chunks = get_pdf_chunks(text)\n",
    "    elif file.endswith(\".json\"):\n",
    "        with open(file_path, \"r\", encoding=\"utf-8\") as f:\n",
    "            data = json.load(f)\n",
    "        chunks = get_json_chunks(data)\n",
    "    else:\n",
    "        continue\n",
    "    \n",
    "    # wrap in a Document object\n",
    "    docs.extend(\n",
    "        [\n",
    "            Document(\n",
    "                page_content=chunk, \n",
    "                metadata={\n",
    "                    \"source\": file,\n",
    "                    \"chunk_index\": i,\n",
    "                    \"last_update\": time.time(),\n",
    "                }\n",
    "            ) \n",
    "            for i, chunk in enumerate(chunks)\n",
    "        ]\n",
    "    )\n",
    "\n",
    "    # create unique IDs for each document\n",
    "    ids.extend(\n",
    "        [\n",
    "            f\"{file}_{i}\"\n",
    "            for i in range(len(chunks))\n",
    "        ]\n",
    "    )"
   ]
  },
  {
   "cell_type": "code",
   "execution_count": 9,
   "id": "0c1d1d6b",
   "metadata": {},
   "outputs": [
    {
     "data": {
      "text/plain": [
       "['course_python_data_analysis_intro.txt_0',\n",
       " 'course_python_data_analysis_intro.txt_1',\n",
       " 'project_marketing_comp.pdf_0',\n",
       " 'project_marketing_comp.pdf_1',\n",
       " 'project_marketing_comp.pdf_2',\n",
       " 'project_football_ig.pdf_0',\n",
       " 'project_football_ig.pdf_1',\n",
       " 'project_football_ig.pdf_2',\n",
       " 'project_football_ig.pdf_3',\n",
       " 'course_digital_marketing_notes.docx_0',\n",
       " 'course_digital_marketing_notes.docx_1',\n",
       " 'course_digital_marketing_notes.docx_2',\n",
       " 'course_digital_marketing_notes.docx_3',\n",
       " 'course_digital_marketing_notes.docx_4',\n",
       " 'course_digital_marketing_notes.docx_5',\n",
       " 'course_digital_marketing_notes.docx_6',\n",
       " 'course_digital_marketing_notes.docx_7',\n",
       " 'course_digital_marketing_notes.docx_8',\n",
       " 'course_digital_marketing_notes.docx_9',\n",
       " 'course_digital_marketing_notes.docx_10',\n",
       " 'course_digital_marketing_notes.docx_11',\n",
       " 'course_digital_marketing_notes.docx_12',\n",
       " 'course_digital_marketing_notes.docx_13',\n",
       " 'course_digital_marketing_notes.docx_14',\n",
       " 'course_digital_marketing_notes.docx_15',\n",
       " 'course_digital_marketing_notes.docx_16',\n",
       " 'course_digital_marketing_notes.docx_17',\n",
       " 'course_marketing_management_intro.txt_0',\n",
       " 'course_marketing_management_intro.txt_1',\n",
       " 'qa.json_0',\n",
       " 'qa.json_1',\n",
       " 'qa.json_2',\n",
       " 'qa.json_3',\n",
       " 'qa.json_4',\n",
       " 'qa.json_5',\n",
       " 'qa.json_6',\n",
       " 'qa.json_7',\n",
       " 'qa.json_8',\n",
       " 'qa.json_9',\n",
       " 'qa.json_10',\n",
       " 'qa.json_11',\n",
       " 'qa.json_12',\n",
       " 'qa.json_13',\n",
       " 'qa.json_14',\n",
       " 'qa.json_15',\n",
       " 'qa.json_16',\n",
       " 'info_resume.docx_0',\n",
       " 'info_resume.docx_1',\n",
       " 'info_resume.docx_2',\n",
       " 'info_resume.docx_3',\n",
       " 'info_resume.docx_4',\n",
       " 'info_resume.docx_5',\n",
       " 'info_resume.docx_6',\n",
       " 'info_resume.docx_7',\n",
       " 'info_resume.docx_8',\n",
       " 'info_resume.docx_9',\n",
       " 'info_resume.docx_10',\n",
       " 'info_resume.docx_11',\n",
       " 'info_resume.docx_12',\n",
       " 'info_resume.docx_13',\n",
       " 'info_resume.docx_14',\n",
       " 'info_work_exp.docx_0',\n",
       " 'course_digital_marketing_intro.txt_0',\n",
       " 'course_digital_marketing_intro.txt_1',\n",
       " 'course_marketing_management_notes.docx_0',\n",
       " 'course_marketing_management_notes.docx_1',\n",
       " 'course_marketing_management_notes.docx_2',\n",
       " 'course_marketing_management_notes.docx_3',\n",
       " 'course_marketing_management_notes.docx_4',\n",
       " 'course_marketing_management_notes.docx_5',\n",
       " 'course_marketing_management_notes.docx_6',\n",
       " 'course_marketing_management_notes.docx_7',\n",
       " 'course_marketing_management_notes.docx_8',\n",
       " 'info_self_introduction.md_0',\n",
       " 'info_self_introduction.md_1',\n",
       " 'info_self_introduction.md_2',\n",
       " 'info_self_introduction.md_3',\n",
       " 'info_self_introduction.md_4',\n",
       " 'info_self_introduction.md_5',\n",
       " 'info_self_introduction.md_6',\n",
       " 'info_self_introduction.md_7',\n",
       " 'info_self_introduction.md_8',\n",
       " 'project_marketing_proposal.pdf_0',\n",
       " 'project_marketing_proposal.pdf_1',\n",
       " 'project_marketing_proposal.pdf_2']"
      ]
     },
     "execution_count": 9,
     "metadata": {},
     "output_type": "execute_result"
    }
   ],
   "source": [
    "vector_store.add_documents(docs, ids=ids)"
   ]
  },
  {
   "cell_type": "code",
   "execution_count": 10,
   "id": "f058e599",
   "metadata": {},
   "outputs": [],
   "source": [
    "vector_store.save_local(\"../vector_store\")"
   ]
  },
  {
   "cell_type": "code",
   "execution_count": 11,
   "id": "2a67c878",
   "metadata": {},
   "outputs": [],
   "source": [
    "# vector_store.delete(ids=[...])"
   ]
  }
 ],
 "metadata": {
  "kernelspec": {
   "display_name": "ragdb",
   "language": "python",
   "name": "python3"
  },
  "language_info": {
   "codemirror_mode": {
    "name": "ipython",
    "version": 3
   },
   "file_extension": ".py",
   "mimetype": "text/x-python",
   "name": "python",
   "nbconvert_exporter": "python",
   "pygments_lexer": "ipython3",
   "version": "3.11.13"
  }
 },
 "nbformat": 4,
 "nbformat_minor": 5
}
