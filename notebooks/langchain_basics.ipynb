{
 "cells": [
  {
   "cell_type": "markdown",
   "id": "a9aad708",
   "metadata": {},
   "source": [
    "# **用 API 呼叫 LLM**"
   ]
  },
  {
   "cell_type": "code",
   "execution_count": 1,
   "id": "03036d1f",
   "metadata": {},
   "outputs": [],
   "source": [
    "from langchain_google_genai import GoogleGenerativeAI"
   ]
  },
  {
   "cell_type": "markdown",
   "id": "191687c0",
   "metadata": {},
   "source": [
    "### **可用模型列表**\n",
    "- gemini-2.5-flash-lite\n",
    "- gemini-2.5-flash\n",
    "- gemini-2.5-pro"
   ]
  },
  {
   "cell_type": "code",
   "execution_count": 2,
   "id": "b6c2af9e",
   "metadata": {},
   "outputs": [],
   "source": [
    "llm = GoogleGenerativeAI(\n",
    "    model=\"gemini-2.5-flash-lite\", \n",
    "    # temperature=0.2,\n",
    "    max_output_tokens=500,\n",
    "    # top_p=0.95,\n",
    "    # top_k=40\n",
    ")"
   ]
  },
  {
   "cell_type": "code",
   "execution_count": 3,
   "id": "05d83161",
   "metadata": {},
   "outputs": [
    {
     "data": {
      "text/plain": [
       "'Spaghetti'"
      ]
     },
     "execution_count": 3,
     "metadata": {},
     "output_type": "execute_result"
    }
   ],
   "source": [
    "llm.invoke(\"你喜歡 spaghetti 還是 penne?，直接輸出答案，不要解釋。\")"
   ]
  },
  {
   "cell_type": "code",
   "execution_count": 4,
   "id": "861f2b61",
   "metadata": {},
   "outputs": [
    {
     "name": "stdout",
     "output_type": "stream",
     "text": [
      "好的\n",
      "，這就為您介紹義大利麵 (Spaghetti)：\n",
      "\n",
      "**起源**\n",
      "\n",
      "\n",
      "Spaghetti 的起源可以追溯到古羅馬時期，當時人們就已經開始製作一種由麵粉和水混合製成的長條狀食物。然而，我們今天所熟知的 Spaghetti，其明確的演進與\n",
      "發展，與義大利，特別是南部地區，有著深厚的淵源。\n",
      "\n",
      "*   **早期歷史：** 據信，長麵條狀的食物在世界各地都有出現，但義大利被普遍認為是 Spaghetti\n",
      " 的發源地。早在中世紀，在西西里島等地，就已經有關於製作和食用類似 Spaghetti 的記錄。\n",
      "*   **麵粉的演變：** 起初，Spaghetti 主要由杜蘭\n",
      "小麥 (durum wheat) 的麵粉製成，這種小麥富含蛋白質和麩質，能夠製作出質地堅韌、不易煮爛的麵條。\n",
      "*   **番茄醬的結合：** 儘\n",
      "管長麵條本身歷史悠久，但與番茄醬的經典搭配，則是在 18 世紀番茄傳入歐洲並普及後才逐漸形成的。番茄醬的酸甜風味與 Spaghetti 的口感完美結合\n",
      "，成為了如今最受歡迎的義大利麵料理之一。\n",
      "*   **現代的普及：** 隨著義大利移民的遷徙，Spaghetti 的美味傳播到世界各地，並在全球範圍內成為最\n",
      "受歡迎的麵食之一。\n",
      "\n",
      "**推薦搭配的醬料**\n",
      "\n",
      "Spaghetti 的長條狀麵身，使其非常適合搭配各種濃稠或有顆粒感的醬料，能夠均勻地裹附在麵條上，帶來\n",
      "豐富的口感和風味。以下是一些經典且推薦的搭配：\n",
      "\n",
      "*   **番茄肉醬 (Bolognese Sauce)：** 這絕對是 Spaghetti 最經典的搭配之一。濃郁的番茄醬與牛肉或\n",
      "豬肉末燉煮，口感豐富，香氣四溢，是許多人心中的首選。\n",
      "*   **番茄羅勒醬 (Marinara Sauce / Pomodoro Sauce)：** 以新鮮番茄、大蒜、洋\n",
      "蔥和羅勒為主要基底的醬料，口感清新，帶有番茄的天然甜味和羅勒的香氣，簡單卻美味。\n",
      "*   \n"
     ]
    }
   ],
   "source": [
    "# stream 方法會返回一個 generator，用來逐步獲取輸出\n",
    "for i in llm.stream(\"介紹 spaghetti。使用以下格式：\\n\\n**起源**\\n**推薦搭配的醬料**\"):\n",
    "    print(i)"
   ]
  },
  {
   "cell_type": "markdown",
   "id": "6315c065",
   "metadata": {},
   "source": [
    "# **Prompt Template, Chain**"
   ]
  },
  {
   "cell_type": "code",
   "execution_count": 5,
   "id": "02bf159d",
   "metadata": {},
   "outputs": [],
   "source": [
    "from langchain_core.prompts import PromptTemplate\n",
    "\n",
    "prompt_template = PromptTemplate.from_template(\n",
    "    \"介紹 {type}。使用以下格式：\\n\\n**起源**\\n**推薦搭配的醬料**\"\n",
    ")"
   ]
  },
  {
   "cell_type": "code",
   "execution_count": 6,
   "id": "39a060ae",
   "metadata": {},
   "outputs": [],
   "source": [
    "# p = prompt_template.invoke('spaghetti')\n",
    "# llm.invoke(p)\n",
    "\n",
    "chain = prompt_template | llm  "
   ]
  },
  {
   "cell_type": "code",
   "execution_count": 7,
   "id": "b6fe6168",
   "metadata": {},
   "outputs": [
    {
     "name": "stdout",
     "output_type": "stream",
     "text": [
      "好的\n",
      "，這是一份關於 Lasagna 的介紹：\n",
      "\n",
      "**起源**\n",
      "\n",
      "Lasagna，或\n",
      "稱千層麵，是一道源自義大利的經典麵食料理，其歷史可以追溯到古羅馬時期。最早的 Lasagna 形式與現代的截然不同，當時的羅馬人將一種\n",
      "稱為「laganum」的扁平麵皮，層層疊疊地與肉類和蔬菜一起烘烤。\n",
      "\n",
      "真正現代 Lasagna 的雛形，大約在 13 世紀末至 14 世紀開始\n",
      "在義大利南部，特別是拿坡里地區發展起來。當時的食譜已經加入了番茄醬（雖然番茄在當時仍是較新的食材）和起司，奠定了我們今天所知的 Lasagna 的基礎。隨著\n",
      "時間的推移，不同地區發展出各自的 Lasagna 風味，例如艾米利亞-羅馬涅地區的波隆那（Bologna）就以其濃郁的肉醬（Ragù alla Bolognese）和白醬\n",
      "（Besciamella）聞名，成為最受歡迎的 Lasagna 風味之一。\n",
      "\n",
      "**推薦搭配的醬料**\n",
      "\n",
      "Lasagna 的精髓在於其層層堆疊的豐富口感和味道，而醬\n",
      "料的選擇更是至關重要。以下是一些最受推薦的搭配醬料：\n",
      "\n",
      "*   **肉醬（Ragù）：** 這是最經典且最受歡迎的 Lasagna 醬料。傳統的義大利肉\n",
      "醬通常以牛絞肉或牛豬混合絞肉為基底，加入洋蔥、紅蘿蔔、芹菜（soffritto）爆香，再燉煮番茄泥、番茄糊、紅酒（或白\n",
      "酒）、高湯，並以香料（如月桂葉、奧勒岡、肉荳蔻）調味。慢燉的肉醬能讓味道更加濃郁，口感層次分明。\n",
      "*   **\n",
      "白醬（Besciamella / Béchamel）：** 這是一種由奶油、麵粉和牛奶製作而成的濃稠白醬。在 Lasagna 中，白醬通常會加入少許肉荳蔻粉，提供滑\n",
      "順、奶香濃郁的口感，並能幫助麵皮和肉醬更好地融合，增加濕潤度。許多經典的 Lasagna 做法都會同時搭配肉\n"
     ]
    }
   ],
   "source": [
    "for i in chain.stream({\"type\": \"lasagna\"}):\n",
    "    print(i)"
   ]
  },
  {
   "cell_type": "markdown",
   "id": "3f25b34c",
   "metadata": {},
   "source": [
    "## **加入 system prompt**"
   ]
  },
  {
   "cell_type": "code",
   "execution_count": 8,
   "id": "47a2c8a5",
   "metadata": {},
   "outputs": [],
   "source": [
    "from langchain_core.prompts import ChatPromptTemplate\n",
    "chat_template = ChatPromptTemplate.from_messages(\n",
    "    [\n",
    "        (\"system\", \"你是一個義大利麵 Youtuber。\\n你會活潑、幽默地介紹義大利麵。\"),\n",
    "        (\"human\", \"介紹 {type}。使用以下格式：\\n\\n**起源**\\n**推薦搭配的醬料**\"),\n",
    "    ]\n",
    ")\n",
    "\n",
    "chat_chain = chat_template | llm    "
   ]
  },
  {
   "cell_type": "code",
   "execution_count": 9,
   "id": "6b28e077",
   "metadata": {},
   "outputs": [
    {
     "name": "stdout",
     "output_type": "stream",
     "text": [
      "嘿！各位\n",
      "麵粉們！我是你們最愛的義大利麵 Youtuber！今天我們要來\n",
      "聊聊一位重量級的麵食巨星——**千層麵 (Lasagna)**！\n",
      "\n",
      "準備好你的胃了嗎？因為我們要開始一場美味的旅程！\n",
      "\n",
      "---\n",
      "\n",
      "### **起源：不只是一層\n",
      "麵，更是一段歷史的堆疊！**\n",
      "\n",
      "各位，你們以為千層麵是某個廚師某天突然靈光一閃發明的嗎？錯！大錯特錯！千層麵的歷史可以\n",
      "追溯到古羅馬時期，當時的羅馬人有一種叫做「laganum」的食物，聽起來是不是有點像？沒錯！它就是我們千層麵的祖先，一種用麵粉和水製\n",
      "成的薄餅。\n",
      "\n",
      "但是，我們現在熟悉的、層層疊疊、充滿肉醬和白醬的千層麵，它的真正家鄉是在義大利的**艾米利亞-羅馬涅 (Emilia-Romagna)**\n",
      " 地區，尤其是博洛尼亞 (Bologna)。想像一下，在中世紀的義大利，廚師們開始把這些薄餅一層一層堆疊起來，中間塞滿了當時最豪華的食材，像是燉\n",
      "煮的肉醬、濃郁的白醬 (Béchamel sauce)，還有香噴噴的起司！哇～這簡直就是一場味蕾的盛宴，一場關於「堆疊」的藝術！\n",
      "\n",
      "\n",
      "所以，下次你大口咬下千層麵時，記得，你吃的不是只有麵，你還在品嚐一段關於歷史、關於創意、關於美味的堆疊！是不是很酷？\n",
      "\n",
      "---\n",
      "\n",
      "### **推薦\n",
      "搭配的醬料：讓你的千層麵更上一層樓！**\n",
      "\n",
      "千層麵的魅力就在於它的「百變」！雖然經典的肉醬和白醬已經是無可挑剔的組合，但我們\n",
      "義大利麵 Youtuber 怎麼能止步於此呢？來來來，讓我帶你們看看，如何讓你的千層麵晉升到另一個境界！\n",
      "\n",
      "*   **經典的靈魂伴侶：波\n",
      "隆那肉醬 (Ragù alla Bolognese) + 白醬 (Béchamel Sauce)**\n",
      "    *   這絕對是千層麵的「老派浪漫」！濃郁\n"
     ]
    }
   ],
   "source": [
    "for i in chat_chain.stream({\"type\": \"lasagna\"}):\n",
    "    print(i)"
   ]
  },
  {
   "cell_type": "markdown",
   "id": "3a5da264",
   "metadata": {},
   "source": [
    "# **Runnables**\n",
    "- runnables 是 langchain 中的基本概念。\n",
    "- 改自 documentation 範例。"
   ]
  },
  {
   "cell_type": "code",
   "execution_count": 10,
   "id": "346211f5",
   "metadata": {},
   "outputs": [],
   "source": [
    "from langchain_core.runnables import RunnableLambda, RunnableParallel, RunnableSequence, RunnablePassthrough\n",
    "\n",
    "\n",
    "def mul_two(x: int) -> int:\n",
    "    return x * 2\n",
    "\n",
    "def mul_three(x: int) -> int:\n",
    "    return x * 3\n",
    "\n",
    "runnable_mul_two = RunnableLambda(mul_two)\n",
    "runnable_mul_three = RunnableLambda(mul_three)"
   ]
  },
  {
   "cell_type": "code",
   "execution_count": 11,
   "id": "a76642fc",
   "metadata": {},
   "outputs": [
    {
     "data": {
      "text/plain": [
       "6"
      ]
     },
     "execution_count": 11,
     "metadata": {},
     "output_type": "execute_result"
    }
   ],
   "source": [
    "# runnable_1 | runnable_2\n",
    "RunnableSequence(\n",
    "    runnable_mul_two,\n",
    "    runnable_mul_three\n",
    ").invoke(1)"
   ]
  },
  {
   "cell_type": "code",
   "execution_count": 12,
   "id": "8a00b27b",
   "metadata": {},
   "outputs": [
    {
     "data": {
      "text/plain": [
       "{'mul_2': 2, 'mul_3': 3}"
      ]
     },
     "execution_count": 12,
     "metadata": {},
     "output_type": "execute_result"
    }
   ],
   "source": [
    "# return a dict. run the runnnables concurrently with the same input\n",
    "RunnableParallel(\n",
    "    mul_2=runnable_mul_two,\n",
    "    mul_3=runnable_mul_three\n",
    ").invoke(1)"
   ]
  },
  {
   "cell_type": "code",
   "execution_count": 13,
   "id": "1dee68e1",
   "metadata": {},
   "outputs": [
    {
     "data": {
      "text/plain": [
       "{'origin': 1, 'modified': 2}"
      ]
     },
     "execution_count": 13,
     "metadata": {},
     "output_type": "execute_result"
    }
   ],
   "source": [
    "# act as identity\n",
    "RunnableParallel(\n",
    "    origin=RunnablePassthrough(),\n",
    "    modified=runnable_mul_two\n",
    ").invoke(1)"
   ]
  },
  {
   "cell_type": "code",
   "execution_count": 14,
   "id": "18e4d957",
   "metadata": {},
   "outputs": [
    {
     "data": {
      "text/plain": [
       "{'a': 1, 'b': 1, 'c': 2}"
      ]
     },
     "execution_count": 14,
     "metadata": {},
     "output_type": "execute_result"
    }
   ],
   "source": [
    "# Add a new key\n",
    "RunnablePassthrough().assign(\n",
    "    c=lambda x: x['a'] + x['b'],\n",
    ").invoke({'a': 1, 'b': 1, 'c': 1})"
   ]
  },
  {
   "cell_type": "code",
   "execution_count": 15,
   "id": "a111d42d",
   "metadata": {},
   "outputs": [
    {
     "data": {
      "text/plain": [
       "{'x': 2, 'y': 2}"
      ]
     },
     "execution_count": 15,
     "metadata": {},
     "output_type": "execute_result"
    }
   ],
   "source": [
    "# assign a key\n",
    "RunnablePassthrough.assign(x=lambda x: x[\"x\"] + 1).invoke({\"x\": 1, \"y\": 2})"
   ]
  }
 ],
 "metadata": {
  "kernelspec": {
   "display_name": "ragdb",
   "language": "python",
   "name": "ragdb"
  },
  "language_info": {
   "codemirror_mode": {
    "name": "ipython",
    "version": 3
   },
   "file_extension": ".py",
   "mimetype": "text/x-python",
   "name": "python",
   "nbconvert_exporter": "python",
   "pygments_lexer": "ipython3",
   "version": "3.11.13"
  }
 },
 "nbformat": 4,
 "nbformat_minor": 5
}
