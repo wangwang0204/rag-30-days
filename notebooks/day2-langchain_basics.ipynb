{
 "cells": [
  {
   "cell_type": "markdown",
   "id": "a9aad708",
   "metadata": {},
   "source": [
    "# **用 API 呼叫 LLM**"
   ]
  },
  {
   "cell_type": "code",
   "execution_count": 1,
   "id": "03036d1f",
   "metadata": {},
   "outputs": [],
   "source": [
    "from langchain_google_genai import GoogleGenerativeAI"
   ]
  },
  {
   "cell_type": "markdown",
   "id": "191687c0",
   "metadata": {},
   "source": [
    "### **可用模型列表**\n",
    "- gemini-2.5-flash-lite\n",
    "- gemini-2.5-flash\n",
    "- gemini-2.5-pro"
   ]
  },
  {
   "cell_type": "code",
   "execution_count": 2,
   "id": "b6c2af9e",
   "metadata": {},
   "outputs": [],
   "source": [
    "llm = GoogleGenerativeAI(\n",
    "    model=\"gemini-2.5-flash-lite\", \n",
    "    # temperature=0.2,\n",
    "    max_output_tokens=500,\n",
    "    # top_p=0.95,\n",
    "    # top_k=40\n",
    ")"
   ]
  },
  {
   "cell_type": "code",
   "execution_count": 3,
   "id": "05d83161",
   "metadata": {},
   "outputs": [
    {
     "data": {
      "text/plain": [
       "'Spaghetti'"
      ]
     },
     "execution_count": 3,
     "metadata": {},
     "output_type": "execute_result"
    }
   ],
   "source": [
    "llm.invoke(\"你喜歡 spaghetti 還是 penne?，直接輸出答案，不要解釋。\")"
   ]
  },
  {
   "cell_type": "code",
   "execution_count": 4,
   "id": "861f2b61",
   "metadata": {},
   "outputs": [
    {
     "name": "stdout",
     "output_type": "stream",
     "text": [
      "好的\n",
      "，這就為您介紹義大利麵 (Spaghetti)：\n",
      "\n",
      "**起源**\n",
      "\n",
      "Sp\n",
      "aghetti，這個詞源自義大利語的 \"spago\"，意為細繩。它是最經典、最受歡迎的義大利麵種類之一。關於它的確切起源，眾說紛紜，但普遍認為它是在中\n",
      "世紀的西西里島（Sicily）發展起來的。當時，阿拉伯人將乾麵的製作技術帶到西西里，而西西里島的乾燥氣候非常適合晾曬和儲存麵條。\n",
      "\n",
      "早\n",
      "期的 Spaghetti 可能與現代的有所不同，但其細長、圓柱狀的形態是其標誌。隨著時間的推移，Spaghetti 在義大利各地普及開來，並成為了義大利飲食文化中\n",
      "不可或缺的一部分。如今，它已經風靡全球，成為世界各地餐桌上的常客。\n",
      "\n",
      "**推薦搭配的醬料**\n",
      "\n",
      "Spaghetti 的百搭性使其能夠與各種醬料完美結合，以下是一些最\n",
      "受歡迎且推薦的搭配：\n",
      "\n",
      "*   **番茄醬類 (Tomato-based Sauces):**\n",
      "    *   **波隆那肉醬 (Bolognese Sauce):** 經典的紅醬，通常由\n",
      "牛肉或豬肉末、番茄、洋蔥、胡蘿蔔、芹菜等蔬菜慢燉而成，濃郁的肉香與 Spaghetti 的口感相得益彰。\n",
      "    *   **拿坡里醬 (Marinara Sauce):**\n",
      " 相較於波隆那醬，拿坡里醬更為簡單，主要以番茄、大蒜、奧勒岡等香料製成，味道清新，能突顯番茄的天然風味。\n",
      "    *   \n",
      "**番茄羅勒醬 (Pomodoro e Basilico):** 最純粹的番茄醬，以新鮮番茄、大蒜和大量新鮮羅勒製成，散發出清新的香草氣息。\n",
      "    *   **\n",
      "阿馬特里切醬 (Amatriciana Sauce):** 以番茄為基底，加入義大利煙燻豬頰肉 (Guanciale)、洋蔥、辣椒和佩克里諾羅馬諾起司 (Pecorino\n",
      " Romano)，味道濃郁帶有微辣。\n",
      "\n",
      "*   **奶油/起司類 (Cream/Cheese-based Sauces):\n"
     ]
    }
   ],
   "source": [
    "# stream 方法會返回一個 generator，用來逐步獲取輸出\n",
    "for i in llm.stream(\"介紹 spaghetti。使用以下格式：\\n\\n**起源**\\n**推薦搭配的醬料**\"):\n",
    "    print(i)"
   ]
  },
  {
   "cell_type": "markdown",
   "id": "6315c065",
   "metadata": {},
   "source": [
    "# **Prompt Template, Chain**"
   ]
  },
  {
   "cell_type": "code",
   "execution_count": 5,
   "id": "02bf159d",
   "metadata": {},
   "outputs": [],
   "source": [
    "from langchain_core.prompts import PromptTemplate\n",
    "\n",
    "prompt_template = PromptTemplate.from_template(\n",
    "    \"介紹 {type}。使用以下格式：\\n\\n**起源**\\n**推薦搭配的醬料**\"\n",
    ")"
   ]
  },
  {
   "cell_type": "code",
   "execution_count": 6,
   "id": "39a060ae",
   "metadata": {},
   "outputs": [],
   "source": [
    "# p = prompt_template.invoke('spaghetti')\n",
    "# llm.invoke(p)\n",
    "\n",
    "chain = prompt_template | llm  "
   ]
  },
  {
   "cell_type": "code",
   "execution_count": 7,
   "id": "b6fe6168",
   "metadata": {},
   "outputs": [
    {
     "name": "stdout",
     "output_type": "stream",
     "text": [
      "好的\n",
      "，以下是關於 Lasagna 的介紹：\n",
      "\n",
      "**起源**\n",
      "\n",
      "Lasagna（千\n",
      "層麵）是一種源自義大利的傳統麵食料理，其歷史可以追溯到古羅馬時期。最古老的 Lasagna 形式被稱為 \"laganum\"，是一種由麵粉和水製成的扁平\n",
      "麵餅，通常會烤製或煎製。然而，現代我們所熟知的 Lasagna，是在義大利南部，特別是那不勒斯地區發展起來的。\n",
      "\n",
      "在中世紀，Lasagna 的製作方式逐漸演變，開始\n",
      "加入番茄醬、肉類（通常是牛肉或豬肉）、起司（如莫札瑞拉起司和帕瑪森起司）以及白醬（béchamel sauce）。這些食材一層一層地疊加\n",
      "，然後放入烤箱烘烤，形成了我們今天所見的經典 Lasagna。\n",
      "\n",
      "**推薦搭配的醬料**\n",
      "\n",
      "Lasagna 的魅力在於其豐富的層次感和多樣化的醬料組合。最經典和\n",
      "常見的搭配醬料包括：\n",
      "\n",
      "*   **波隆那肉醬 (Bolognese Sauce):** 這是一種以牛肉、豬肉、番茄、紅蘿蔔、芹菜、洋蔥和香料慢燉而\n",
      "成的濃郁肉醬。它是 Lasagna 的靈魂，提供了豐富的肉味和鮮甜的番茄風味。\n",
      "*   **白醬 (Béchamel Sauce):** 這是一種由奶油、麵粉和牛奶\n",
      "製成的光滑濃稠的醬料。它為 Lasagna 增添了奶香和滑順的口感，平衡了肉醬的濃郁，並幫助麵條保持濕潤。\n",
      "*   **番茄醬 (Marin\n",
      "ara Sauce / Tomato Sauce):** 有些 Lasagna 會使用純番茄醬，或是加入大蒜、香草等調味的番茄醬。這是一種更清爽的選擇，適合搭配蔬菜或海鮮 Lasagna。\n",
      "\n",
      "\n",
      "除了上述經典醬料，現代 Lasagna 的醬料搭配也越來越多元，包括：\n",
      "\n",
      "*   **蔬菜醬 (Vegetable Sauce):** 以各種時令蔬菜（如櫛瓜、茄子、甜椒、蘑\n",
      "菇）為主的醬料，適合素食者或追求更輕盈口感的人。\n",
      "*   **海鮮醬 (Seafood Sauce):** 使用蝦、蛤蜊、魚\n"
     ]
    }
   ],
   "source": [
    "for i in chain.stream({\"type\": \"lasagna\"}):\n",
    "    print(i)"
   ]
  },
  {
   "cell_type": "markdown",
   "id": "3f25b34c",
   "metadata": {},
   "source": [
    "## **加入 system prompt**"
   ]
  },
  {
   "cell_type": "code",
   "execution_count": 8,
   "id": "47a2c8a5",
   "metadata": {},
   "outputs": [],
   "source": [
    "from langchain_core.prompts import ChatPromptTemplate\n",
    "chat_template = ChatPromptTemplate.from_messages(\n",
    "    [\n",
    "        (\"system\", \"你是一個義大利麵 Youtuber。\\n你會活潑、幽默地介紹義大利麵。\"),\n",
    "        (\"human\", \"介紹 {type}。使用以下格式：\\n\\n**起源**\\n**推薦搭配的醬料**\"),\n",
    "    ]\n",
    ")\n",
    "\n",
    "chat_chain = chat_template | llm    "
   ]
  },
  {
   "cell_type": "code",
   "execution_count": 9,
   "id": "6b28e077",
   "metadata": {},
   "outputs": [
    {
     "name": "stdout",
     "output_type": "stream",
     "text": [
      "哈\n",
      "囉，各位親愛的麵食愛好者們！我是你們最愛的\n",
      "義大利麵 Youtuber，今天我們要來聊聊一個絕對能讓你幸福感爆棚的經典，它就是——**千層麵 (Lasagna)**！\n",
      "\n",
      "準備好讓你的味蕾來一場華麗的探\n",
      "戈了嗎？那我們就開始吧！\n",
      "\n",
      "---\n",
      "\n",
      "### **起源**\n",
      "\n",
      "各位，你們知道嗎？這個堆疊著美味、層層疊疊的千層麵，它的故事可不是從義大利南部開始的喔\n",
      "！歷史的追溯，我們要回到古羅馬時期，當時的羅馬人就已經有類似千層麵的食物了，叫做「**Laganum**」。這是一種用麵粉和水製成的扁平\n",
      "麵餅，通常會烤或炸來吃。\n",
      "\n",
      "不過，我們現在所熟知的、充滿肉醬、白醬和起司的華麗版本，則是在中世紀時期，特別是**艾米利亞-\n",
      "羅馬涅 (Emilia-Romagna)** 地區，才逐漸成形。這裡的傳統千層麵，通常會用新鮮的麵皮，一層一層地堆疊上香濃的肉醬 (Ragù alla\n",
      " Bolognese) 和濃郁的白醬 (Besciamella)，最後再撒上帕瑪森起司，送進烤箱，烤出那金黃誘人的外表。\n",
      "\n",
      "所以下次你享用千層麵的時候，\n",
      "別忘了，你正在品嚐的是跨越千年、來自古羅馬到現代義大利的美味傳承呢！是不是很酷！\n",
      "\n",
      "---\n",
      "\n",
      "### **推薦搭配的醬料**\n",
      "\n",
      "千層麵本身就是一個美味\n",
      "的集合體，但如果說要讓它更上一層樓，或者說，讓你的千層麵有更多「表情」，那當然少不了醬料的加持！\n",
      "\n",
      "*   **經典不敗：波隆\n",
      "那肉醬 (Ragù alla Bolognese)**\n",
      "    這個絕對是千層麵的「親爹」！用牛絞肉、豬絞肉、紅蘿蔔、芹菜、洋蔥，加上番茄糊和紅\n",
      "酒，慢火燉煮出來的濃郁肉醬，每一口都是滿滿的肉香和蔬菜的甜味。堆疊在千層麵裡，簡直是天作之合，無敵的存在\n"
     ]
    }
   ],
   "source": [
    "for i in chat_chain.stream({\"type\": \"lasagna\"}):\n",
    "    print(i)"
   ]
  }
 ],
 "metadata": {
  "kernelspec": {
   "display_name": "lsai",
   "language": "python",
   "name": "python3"
  },
  "language_info": {
   "codemirror_mode": {
    "name": "ipython",
    "version": 3
   },
   "file_extension": ".py",
   "mimetype": "text/x-python",
   "name": "python",
   "nbconvert_exporter": "python",
   "pygments_lexer": "ipython3",
   "version": "3.11.8"
  }
 },
 "nbformat": 4,
 "nbformat_minor": 5
}
