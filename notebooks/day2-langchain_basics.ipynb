{
 "cells": [
  {
   "cell_type": "markdown",
   "id": "a9aad708",
   "metadata": {},
   "source": [
    "# **用 API 呼叫 LLM**"
   ]
  },
  {
   "cell_type": "code",
   "execution_count": 1,
   "id": "03036d1f",
   "metadata": {},
   "outputs": [],
   "source": [
    "from langchain_google_genai import GoogleGenerativeAI"
   ]
  },
  {
   "cell_type": "markdown",
   "id": "191687c0",
   "metadata": {},
   "source": [
    "### **可用模型列表**\n",
    "- gemini-2.5-flash-lite\n",
    "- gemini-2.5-flash\n",
    "- gemini-2.5-pro"
   ]
  },
  {
   "cell_type": "code",
   "execution_count": 2,
   "id": "b6c2af9e",
   "metadata": {},
   "outputs": [],
   "source": [
    "llm = GoogleGenerativeAI(\n",
    "    model=\"gemini-2.5-flash-lite\", \n",
    "    # temperature=0.2,\n",
    "    max_output_tokens=500,\n",
    "    # top_p=0.95,\n",
    "    # top_k=40\n",
    ")"
   ]
  },
  {
   "cell_type": "code",
   "execution_count": 3,
   "id": "05d83161",
   "metadata": {},
   "outputs": [
    {
     "data": {
      "text/plain": [
       "'Spaghetti'"
      ]
     },
     "execution_count": 3,
     "metadata": {},
     "output_type": "execute_result"
    }
   ],
   "source": [
    "llm.invoke(\"你喜歡 spaghetti 還是 penne?，直接輸出答案，不要解釋。\")"
   ]
  },
  {
   "cell_type": "code",
   "execution_count": 4,
   "id": "861f2b61",
   "metadata": {},
   "outputs": [
    {
     "name": "stdout",
     "output_type": "stream",
     "text": [
      "好的\n",
      "，這是有關義大利麵 (Spaghetti) 的介紹：\n",
      "\n",
      "**起源**\n",
      "\n",
      "\n",
      "Spaghetti 是一種長形、圓柱狀的義大利麵，是義大利麵中最具代表性的一種。它的名字源自意大利語 \"spago\"，意為「細繩」，而 \"spaghetti\" 則是\n",
      "其複數形式，意指「許多細繩」。\n",
      "\n",
      "關於 Spaghetti 的起源，最普遍的說法是它誕生於義大利南部，特別是西西里島。雖然義大利麵的歷史可以追溯到古\n",
      "羅馬時期，但現代 Spaghetti 的雛形，也就是使用杜蘭小麥粉和水製成的細長麵條，普遍認為是在 13 世紀左右開始流行。\n",
      "\n",
      "歷史上有一個廣為流傳的說法，\n",
      "認為馬可·波羅在從中國返回義大利時，帶回了製作麵條的技術，但這個說法並沒有確切的歷史證據支持，而且在馬可·波羅到訪中國之前，義\n",
      "大利南部就已經有製作麵條的紀錄了。\n",
      "\n",
      "Spaghetti 的製作方法隨著時間演變，從最初的手工製作，到後來機械化的生產，使得 Spaghetti 成為一種普及且深受喜愛的食物。\n",
      "\n",
      "**推薦搭配的\n",
      "醬料**\n",
      "\n",
      "Spaghetti 的百搭性是其受歡迎的關鍵之一。它能與各種風味濃郁的醬料完美融合。以下是一些推薦的搭配：\n",
      "\n",
      "*   **番茄為基底的醬料：\n",
      "**\n",
      "    *   **波隆那肉醬 (Bolognese Sauce):** 經典的搭配，濃郁的燉牛肉或豬肉醬，搭配 Spaghetti 的口感非常協調。\n",
      "    *   **經典番茄羅\n",
      "勒醬 (Marinara Sauce):** 簡單卻美味，以番茄、大蒜、洋蔥和羅勒為主要成分，清新爽口。\n",
      "    *   **番茄奶油醬 (Vodka Sauce / Cream\n",
      "y Tomato Sauce):** 結合了番茄的酸甜和奶油的滑順，口感豐富，帶有淡淡的酒香（若使用伏特加）。\n",
      "\n",
      "*   **橄欖油為基底的醬料：\n",
      "**\n",
      "    *   **蒜炒橄欖油辣椒麵 (Aglio e Olio):** 極簡的美味，僅用大蒜、橄欖油\n"
     ]
    }
   ],
   "source": [
    "# stream 方法會返回一個 generator，用來逐步獲取輸出\n",
    "for i in llm.stream(\"介紹 spaghetti。使用以下格式：\\n\\n**起源**\\n**推薦搭配的醬料**\"):\n",
    "    print(i)"
   ]
  },
  {
   "cell_type": "markdown",
   "id": "6315c065",
   "metadata": {},
   "source": [
    "# **Prompt Template, Chain**"
   ]
  },
  {
   "cell_type": "code",
   "execution_count": 5,
   "id": "02bf159d",
   "metadata": {},
   "outputs": [],
   "source": [
    "from langchain_core.prompts import PromptTemplate\n",
    "\n",
    "prompt_template = PromptTemplate.from_template(\n",
    "    \"介紹 {type}。使用以下格式：\\n\\n**起源**\\n**推薦搭配的醬料**\"\n",
    ")"
   ]
  },
  {
   "cell_type": "code",
   "execution_count": 6,
   "id": "39a060ae",
   "metadata": {},
   "outputs": [],
   "source": [
    "# p = prompt_template.invoke('spaghetti')\n",
    "# llm.invoke(p)\n",
    "\n",
    "chain = prompt_template | llm  "
   ]
  },
  {
   "cell_type": "code",
   "execution_count": 7,
   "id": "b6fe6168",
   "metadata": {},
   "outputs": [
    {
     "name": "stdout",
     "output_type": "stream",
     "text": [
      "好的\n",
      "，以下是關於 Lasagna 的介紹：\n",
      "\n",
      "**Lasagna (千層\n",
      "麵)**\n",
      "\n",
      "**起源**\n",
      "\n",
      "Lasagna 的起源可以追溯到古羅馬時期。當時有一種名為 \"laganum\" 的食物，是用麵粉和水製成的薄餅，通常會烘烤或油\n",
      "炸。然而，現代我們所熟知的 Lasagna，也就是層層疊疊的麵皮、肉醬、白醬和起司烤製而成的料理，其雛形普遍認為是在義大利的艾米利亞-\n",
      "羅馬涅（Emilia-Romagna）地區發展起來的。\n",
      "\n",
      "第一個有書面記載的 Lasagna 食譜出現在 14 世紀的義大利，當時的食譜與現在有些許不同，但\n",
      "已經包含了層疊的麵皮和各種餡料。隨著時間的推移，Lasagna 的做法不斷演變，並在全球各地發展出不同的變種。最經典的義大利版本通常使用 ragù (一種濃稠\n",
      "的肉醬)、bechamel (白醬) 和 parmigiano-regiano 起司。\n",
      "\n",
      "**推薦搭配的醬料**\n",
      "\n",
      "Lasagna 本身已經擁有豐富的風味，但搭配合適的醬料可以使其\n",
      "更加美味。以下是一些推薦的搭配：\n",
      "\n",
      "*   **經典的 Ragù (肉醬):** 這是 Lasagna 最經典的靈魂醬料。通常由牛絞肉或豬絞肉，搭配洋蔥、胡\n",
      "蘿蔔、芹菜、番茄醬、紅酒、香料（如奧勒岡、羅勒、月桂葉）慢燉而成。濃郁的肉醬與麵皮、白醬和起司完美融合。\n",
      "\n",
      "*   **Bechamel Sauce (白醬/奶油醬):** 這種由奶油、麵粉和牛奶製成的絲滑醬料，為 Lasagna 增添了溫潤的口感和奶香味。它能夠\n",
      "中和肉醬的濃郁，並讓整體風味更加平衡。\n",
      "*   **番茄醬 (Marinara Sauce):** 如果不喜歡太複雜的肉醬，簡單而新鮮的番茄醬也是一個不錯的選擇，特別\n",
      "是搭配蔬菜 Lasagna 時。\n",
      "*   **蔬菜醬 (Vegetable Sauce):** 專為素食者設計，可以包含各種烤製或炒製的蔬菜，如櫛瓜、\n"
     ]
    }
   ],
   "source": [
    "for i in chain.stream({\"type\": \"lasagna\"}):\n",
    "    print(i)"
   ]
  },
  {
   "cell_type": "markdown",
   "id": "3f25b34c",
   "metadata": {},
   "source": [
    "## **加入 system prompt**"
   ]
  },
  {
   "cell_type": "code",
   "execution_count": 8,
   "id": "47a2c8a5",
   "metadata": {},
   "outputs": [],
   "source": [
    "from langchain_core.prompts import ChatPromptTemplate\n",
    "chat_template = ChatPromptTemplate.from_messages(\n",
    "    [\n",
    "        (\"system\", \"你是一個義大利麵 Youtuber。\\n你會活潑、幽默地介紹義大利麵。\"),\n",
    "        (\"human\", \"介紹 {type}。使用以下格式：\\n\\n**起源**\\n**推薦搭配的醬料**\"),\n",
    "    ]\n",
    ")\n",
    "\n",
    "chat_chain = chat_template | llm    "
   ]
  },
  {
   "cell_type": "code",
   "execution_count": 9,
   "id": "6b28e077",
   "metadata": {},
   "outputs": [
    {
     "name": "stdout",
     "output_type": "stream",
     "text": [
      "哈\n",
      "囉哈囉！各位熱愛義大利麵的粉絲們！我是你們\n",
      "的麵食狂熱者，今天又要來跟大家分享一道讓人口水直流的經典中的經典——**千層麵 (Lasagna)**！ 🍝✨\n",
      "\n",
      "準備好迎接這場味蕾的盛宴了嗎？讓我們\n",
      "一起來探索千層麵的美味奧秘吧！\n",
      "\n",
      "---\n",
      "\n",
      "### **起源**\n",
      "\n",
      "各位，你們知道嗎？這層層疊疊、誘人無比的千層麵，它的歷史可是比你們想像的還要悠久！\n",
      "據說，早在古羅馬時代，就已經有類似千層麵的料理出現了！當時的羅馬人會將麵皮、肉醬和起司層層堆疊，然後烘烤，聽起來是不是\n",
      "有點熟悉？ 😉\n",
      "\n",
      "不過，我們現在所熟知的、最經典的千層麵，其實是發源於義大利的**艾米利亞-羅馬涅 (Emilia-Romagna)** 地區。尤其是\n",
      "那裡的**波隆那 (Bologna)**，更是將千層麵發揚光大！想像一下，在那個古老的時代，人們就已經懂得用麵皮、燉煮的肉醬 (ragù alla\n",
      " bolognese) 和濃郁的白醬 (besciamella) 堆疊出如此美味的層次，這簡直是義大利麵界的祖師爺級發明啊！ 👑\n",
      "\n",
      "而且，據說「Las\n",
      "agna」這個名字，是從拉丁文的「lasanum」演變而來，意思是「鍋子」或「烹飪器具」。所以，你們現在吃的，不只是食物，更是承載著歷史的美味鍋\n",
      "物啊！是不是覺得吃起來更有fu了呢？ 😋\n",
      "\n",
      "---\n",
      "\n",
      "### **推薦搭配的醬料**\n",
      "\n",
      "關於千層麵的醬料，這絕對是讓它美味加倍的關鍵！畢竟，要\n",
      "讓每一層麵皮都吸飽濃郁的醬汁，那才是完美的千層麵！\n",
      "\n",
      "1.  **經典靈魂：波隆那肉醬 (Ragù alla Bolognese) + 白醬 (Besciamella)**\n",
      "\n",
      "\n",
      "    這絕對是千層麵的黃金組合，也是最正宗的搭配！\n",
      "    *   **波隆那肉醬：** 用牛絞肉、豬絞肉，加上洋蔥\n"
     ]
    }
   ],
   "source": [
    "for i in chat_chain.stream({\"type\": \"lasagna\"}):\n",
    "    print(i)"
   ]
  },
  {
   "cell_type": "markdown",
   "id": "3a5da264",
   "metadata": {},
   "source": [
    "# **Runnables**\n",
    "- runnables 是 langchain 中的基本概念。\n",
    "- 改自 documentation 範例。"
   ]
  },
  {
   "cell_type": "code",
   "execution_count": 10,
   "id": "346211f5",
   "metadata": {},
   "outputs": [],
   "source": [
    "from langchain_core.runnables import RunnableLambda, RunnableParallel, RunnableSequence, RunnablePassthrough\n",
    "\n",
    "\n",
    "def mul_two(x: int) -> int:\n",
    "    return x * 2\n",
    "\n",
    "def mul_three(x: int) -> int:\n",
    "    return x * 3\n",
    "\n",
    "runnable_mul_two = RunnableLambda(mul_two)\n",
    "runnable_mul_three = RunnableLambda(mul_three)"
   ]
  },
  {
   "cell_type": "code",
   "execution_count": 11,
   "id": "a76642fc",
   "metadata": {},
   "outputs": [
    {
     "data": {
      "text/plain": [
       "6"
      ]
     },
     "execution_count": 11,
     "metadata": {},
     "output_type": "execute_result"
    }
   ],
   "source": [
    "# runnable_1 | runnable_2\n",
    "RunnableSequence(\n",
    "    runnable_mul_two,\n",
    "    runnable_mul_three\n",
    ").invoke(1)"
   ]
  },
  {
   "cell_type": "code",
   "execution_count": 12,
   "id": "8a00b27b",
   "metadata": {},
   "outputs": [
    {
     "data": {
      "text/plain": [
       "{'mul_2': 2, 'mul_3': 3}"
      ]
     },
     "execution_count": 12,
     "metadata": {},
     "output_type": "execute_result"
    }
   ],
   "source": [
    "# return a dict. run the runnnables concurrently with the same input\n",
    "RunnableParallel(\n",
    "    mul_2=runnable_mul_two,\n",
    "    mul_3=runnable_mul_three\n",
    ").invoke(1)"
   ]
  },
  {
   "cell_type": "code",
   "execution_count": 13,
   "id": "1dee68e1",
   "metadata": {},
   "outputs": [
    {
     "data": {
      "text/plain": [
       "{'origin': 1, 'modified': 2}"
      ]
     },
     "execution_count": 13,
     "metadata": {},
     "output_type": "execute_result"
    }
   ],
   "source": [
    "# act as identity\n",
    "RunnableParallel(\n",
    "    origin=RunnablePassthrough(),\n",
    "    modified=runnable_mul_two\n",
    ").invoke(1)"
   ]
  },
  {
   "cell_type": "code",
   "execution_count": 14,
   "id": "18e4d957",
   "metadata": {},
   "outputs": [
    {
     "data": {
      "text/plain": [
       "{'a': 1, 'b': 1, 'c': 2}"
      ]
     },
     "execution_count": 14,
     "metadata": {},
     "output_type": "execute_result"
    }
   ],
   "source": [
    "# Add a new key\n",
    "RunnablePassthrough().assign(\n",
    "    c=lambda x: x['a'] + x['b'],\n",
    ").invoke({'a': 1, 'b': 1, 'c': 1})"
   ]
  },
  {
   "cell_type": "code",
   "execution_count": 15,
   "id": "a111d42d",
   "metadata": {},
   "outputs": [
    {
     "data": {
      "text/plain": [
       "{'x': 2, 'y': 2}"
      ]
     },
     "execution_count": 15,
     "metadata": {},
     "output_type": "execute_result"
    }
   ],
   "source": [
    "# assign a key\n",
    "RunnablePassthrough.assign(x=lambda x: x[\"x\"] + 1).invoke({\"x\": 1, \"y\": 2})"
   ]
  }
 ],
 "metadata": {
  "kernelspec": {
   "display_name": "lsai",
   "language": "python",
   "name": "python3"
  },
  "language_info": {
   "codemirror_mode": {
    "name": "ipython",
    "version": 3
   },
   "file_extension": ".py",
   "mimetype": "text/x-python",
   "name": "python",
   "nbconvert_exporter": "python",
   "pygments_lexer": "ipython3",
   "version": "3.11.8"
  }
 },
 "nbformat": 4,
 "nbformat_minor": 5
}
