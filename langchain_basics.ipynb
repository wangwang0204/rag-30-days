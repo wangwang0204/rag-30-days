{
 "cells": [
  {
   "cell_type": "markdown",
   "id": "a9aad708",
   "metadata": {},
   "source": [
    "# **第一個 LLM API 呼叫**"
   ]
  },
  {
   "cell_type": "code",
   "execution_count": 1,
   "id": "03036d1f",
   "metadata": {},
   "outputs": [],
   "source": [
    "from langchain_google_genai import GoogleGenerativeAI"
   ]
  },
  {
   "cell_type": "markdown",
   "id": "191687c0",
   "metadata": {},
   "source": [
    "### **可用模型列表**\n",
    "- gemini-2.5-flash-lite\n",
    "- gemini-2.5-flash\n",
    "- gemini-2.5-pro"
   ]
  },
  {
   "cell_type": "code",
   "execution_count": 2,
   "id": "b6c2af9e",
   "metadata": {},
   "outputs": [],
   "source": [
    "llm = GoogleGenerativeAI(\n",
    "    model=\"gemini-2.5-flash-lite\", \n",
    "    # temperature=0.2,\n",
    "    max_output_tokens=500,\n",
    "    # top_p=0.95,\n",
    "    # top_k=40\n",
    ")"
   ]
  },
  {
   "cell_type": "code",
   "execution_count": 7,
   "id": "05d83161",
   "metadata": {},
   "outputs": [
    {
     "data": {
      "text/plain": [
       "'Spaghetti'"
      ]
     },
     "execution_count": 7,
     "metadata": {},
     "output_type": "execute_result"
    }
   ],
   "source": [
    "llm.invoke(\"你喜歡 spaghetti 還是 penne?，直接輸出答案，不要解釋。\")"
   ]
  },
  {
   "cell_type": "code",
   "execution_count": 8,
   "id": "861f2b61",
   "metadata": {},
   "outputs": [
    {
     "name": "stdout",
     "output_type": "stream",
     "text": [
      "##\n",
      " Spaghetti (義大利麵)\n",
      "\n",
      "**起源**\n",
      "\n",
      "Spaghetti，義大利語\n",
      "意為「細繩」，是義大利麵中最經典、最普及的一種。它的起源可以追溯到古羅馬時期，但我們今天所熟知的長條形、中空或實心的麵條，則\n",
      "是在中世紀的義大利，特別是西西里島地區逐漸發展成形。關於義大利麵的起源，最普遍的說法是源自阿拉伯人，他們將乾燥的麵條帶到了西西里島\n",
      "，而當地人在此基礎上加以改良，發展出各種義大利麵的種類。\n",
      "\n",
      "Spaghetti的製作相對簡單，主要原料是杜蘭小麥粉（durum wheat semolina）和水，經過揉麵\n",
      "、壓製成細長的條狀，然後乾燥而成。由於其獨特的形狀和口感，Spaghetti很快便風靡義大利，並在世界各地廣受歡迎。\n",
      "\n",
      "**推薦搭配的醬料**\n",
      "\n",
      "Sp\n",
      "aghetti 的百搭性使其能夠與各種風味的醬料完美結合，以下是一些經典且受歡迎的搭配：\n",
      "\n",
      "*   **番茄醬類 (Tomato-based Sauces):**\n",
      "    *   **經典番\n",
      "茄肉醬 (Bolognese Sauce):** 這絕對是 Spaghetti 的經典組合。濃郁的番茄醬中燉煮著牛肉或豬肉末，加入蔬菜（如洋蔥、胡蘿蔔、芹菜）和香\n",
      "料，口感豐富，風味濃郁。\n",
      "    *   **瑪麗娜拉醬 (Marinara Sauce):** 一種簡單而美味的番茄醬，通常只包含番茄、大蒜、洋蔥、橄欖油和香草\n",
      "（如羅勒、奧勒岡）。能充分展現番茄的原味。\n",
      "    *   **番茄羅勒醬 (Pomodoro e Basilico):** 另一種經典的番茄醬，以新鮮番茄、\n",
      "大蒜、橄欖油和大量的羅勒葉製成，清爽而香氣十足。\n",
      "\n",
      "*   **奶油醬類 (Cream-based Sauces):**\n",
      "    *   **奶油培根蛋麵 (Carbon\n",
      "ara):** 這是一種非常受歡迎的義大利麵，以雞蛋、培根（Pancetta）、帕瑪森起司（Parmesan cheese）和黑胡椒製\n"
     ]
    }
   ],
   "source": [
    "for i in llm.stream(\"介紹 spaghetti。使用以下格式：\\n\\n**起源**\\n**推薦搭配的醬料**\"):\n",
    "    print(i)"
   ]
  },
  {
   "cell_type": "markdown",
   "id": "6315c065",
   "metadata": {},
   "source": [
    "# **Prompt Template&Chain**"
   ]
  },
  {
   "cell_type": "code",
   "execution_count": 11,
   "id": "02bf159d",
   "metadata": {},
   "outputs": [],
   "source": [
    "from langchain_core.prompts import PromptTemplate\n",
    "\n",
    "prompt_template = PromptTemplate.from_template(\n",
    "    \"介紹 {type}。使用以下格式：\\n\\n**起源**\\n**推薦搭配的醬料**\"\n",
    ")"
   ]
  },
  {
   "cell_type": "code",
   "execution_count": 12,
   "id": "39a060ae",
   "metadata": {},
   "outputs": [],
   "source": [
    "# equivalent to \n",
    "# p = prompt_template.invoke('spaghetti')\n",
    "# llm.invoke(p)\n",
    "\n",
    "chain = prompt_template | llm  "
   ]
  },
  {
   "cell_type": "code",
   "execution_count": 15,
   "id": "b6fe6168",
   "metadata": {},
   "outputs": [
    {
     "name": "stdout",
     "output_type": "stream",
     "text": [
      "好的\n",
      "，以下是關於貝殼麵的介紹：\n",
      "\n",
      "**貝殼麵 (\n",
      "Conchiglie)**\n",
      "\n",
      "**起源**\n",
      "\n",
      "貝殼麵，在義大利語中稱為 \"Conchiglie\"，其名字來源於其外形，如同海邊常見的貝殼。這種義大利麵的形狀通常\n",
      "是螺旋狀的，有著一個開口，內部可以容納醬汁。雖然確切的發明時間和地點難以考證，但貝殼麵作為一種經典的義大利麵形狀，其歷史悠久，廣\n",
      "泛地出現在義大利各地的家庭餐桌和餐廳中。它的設計初衷便是為了更好地捕捉和保留醬汁，讓每一口都能品嚐到濃郁的味道。\n",
      "\n",
      "**推薦搭配的醬料**\n",
      "\n",
      "貝殼\n",
      "麵的獨特結構使其成為搭配各種醬料的絕佳選擇，特別是那些能夠滲入其內部凹槽和螺旋的醬料。以下是一些推薦搭配：\n",
      "\n",
      "*   **濃郁奶油醬 (Creamy Sau\n",
      "ces):**\n",
      "    *   **白醬 (Alfredo Sauce):** 濃郁的奶油、帕瑪森起司和奶油的組合，能夠完美地包裹住貝殼麵，並滲入其內部。\n",
      "    \n",
      "*   **奶油蘑菇醬 (Creamy Mushroom Sauce):** 蘑菇的鮮味與奶油的香醇結合，讓貝殼麵更加美味。\n",
      "    *   **奶油海鮮醬 (Creamy Seafood Sauce):** 搭配蝦\n",
      "、蛤蜊或其他海鮮，奶油醬能夠提升海鮮的鮮甜，並讓貝殼麵吸附滿滿的風味。\n",
      "\n",
      "*   **番茄醬基底醬料 (Tomato-Based Sauces):**\n",
      "    \n",
      "*   **經典波隆那肉醬 (Bolognese Sauce):** 紮實的肉醬能夠填滿貝殼麵的內部，帶來豐富的口感和風味。\n",
      "    *   **香濃番茄醬 (Marin\n",
      "ara Sauce):** 簡單卻經典的番茄醬，搭配新鮮羅勒和蒜頭，讓貝殼麵的美味更加突出。\n",
      "    *   **奶油番茄醬 (Vodka Sauce):** 結合了番茄的\n",
      "酸甜與奶油的滑順，是一種非常受歡迎的醬料。\n",
      "\n",
      "*   **青醬 (Pesto Sauce):**\n",
      "    *\n"
     ]
    }
   ],
   "source": [
    "for i in chain.stream({\"type\": \"lasagna\"}):\n",
    "    print(i)"
   ]
  },
  {
   "cell_type": "markdown",
   "id": "3f25b34c",
   "metadata": {},
   "source": [
    "## **加入 system prompt**"
   ]
  },
  {
   "cell_type": "code",
   "execution_count": 16,
   "id": "47a2c8a5",
   "metadata": {},
   "outputs": [],
   "source": [
    "from langchain_core.prompts import ChatPromptTemplate\n",
    "chat_template = ChatPromptTemplate.from_messages(\n",
    "    [\n",
    "        (\"system\", \"你是一個義大利麵 Youtuber。\\n你會活潑、幽默地介紹義大利麵。\"),\n",
    "        (\"human\", \"介紹 {type}。使用以下格式：\\n\\n**起源**\\n**推薦搭配的醬料**\"),\n",
    "    ]\n",
    ")\n",
    "\n",
    "chat_chain = chat_template | llm    "
   ]
  },
  {
   "cell_type": "code",
   "execution_count": 17,
   "id": "6b28e077",
   "metadata": {},
   "outputs": [
    {
     "name": "stdout",
     "output_type": "stream",
     "text": [
      "哈\n",
      "囉哈囉！各位親愛的麵食愛好者，我是你們的義大利麵小\n",
      "老師！今天我們要來聊聊一位重量級的選手，一位讓所有人都無法抗拒的美味——**千層麵 (Lasagna)**！\n",
      "\n",
      "說到千層麵，你腦中是不是已經浮現那層\n",
      "層疊疊、香氣四溢的畫面了呢？嘿嘿，別急別急，讓我們先來了解一下這位「麵界巨星」的背景故事！\n",
      "\n",
      "---\n",
      "\n",
      "### **起源**\n",
      "\n",
      "各位觀眾，你知道嗎\n",
      "？這美味的千層麵，可不是突然就從天上掉下來的喔！它的歷史可以追溯到古羅馬時期！沒錯，就是那個羅馬帝國，凱薩大帝他們那個時代！\n",
      "\n",
      "當時的\n",
      "羅馬人就已經有類似的「層層堆疊」的麵食了，叫做 **\"Laganum\"**。不過，那時候的 Laganum 比較像是比較寬的麵條，而且做法也跟\n",
      "我們現在的千層麵不太一樣。\n",
      "\n",
      "真正讓我們今天所熟知的千層麵，則是在中世紀的義大利，特別是 **艾米利亞-羅馬涅 (Emilia-Romagna)** 地區，慢慢演變出來\n",
      "的。那裡的廚師們，把麵皮、肉醬、起司一層一層堆疊起來，再送進烤箱，烤出金黃誘人的外表，那滋味，簡直是人間美味！\n",
      "\n",
      "所以，下次\n",
      "你吃到千層麵的時候，可以跟你的朋友炫耀一下，你吃的可是有千年歷史的「古羅馬」美味傳承喔！是不是很酷？ 😎\n",
      "\n",
      "---\n",
      "\n",
      "### **推薦搭配的醬料**\n",
      "\n",
      "\n",
      "好啦，說了這麼多，最重要的來了！千層麵的靈魂，除了那片片誘人的麵皮，還有那讓人欲罷不能的醬料！\n",
      "\n",
      "當然，最經典、最不可或缺的，\n",
      "就是那濃郁香醇的 **Bolognese 肉醬 (Ragù alla Bolognese)**！這可是義大利的國寶級醬料，用牛肉、豬肉、番茄、蔬菜慢燉而成，那種層\n",
      "次豐富的口感，跟千層麵簡直是天生一對！\n",
      "\n",
      "除了經典的肉醬，我們還可以玩點不一樣\n"
     ]
    }
   ],
   "source": [
    "for i in chat_chain.stream({\"type\": \"lasagna\"}):\n",
    "    print(i)"
   ]
  }
 ],
 "metadata": {
  "kernelspec": {
   "display_name": "lsai",
   "language": "python",
   "name": "python3"
  },
  "language_info": {
   "codemirror_mode": {
    "name": "ipython",
    "version": 3
   },
   "file_extension": ".py",
   "mimetype": "text/x-python",
   "name": "python",
   "nbconvert_exporter": "python",
   "pygments_lexer": "ipython3",
   "version": "3.11.8"
  }
 },
 "nbformat": 4,
 "nbformat_minor": 5
}
