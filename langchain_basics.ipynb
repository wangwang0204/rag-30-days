{
 "cells": [
  {
   "cell_type": "markdown",
   "id": "a9aad708",
   "metadata": {},
   "source": [
    "# **第一個 LLM API 呼叫**"
   ]
  },
  {
   "cell_type": "code",
   "execution_count": 1,
   "id": "03036d1f",
   "metadata": {},
   "outputs": [],
   "source": [
    "from langchain_google_genai import GoogleGenerativeAI"
   ]
  },
  {
   "cell_type": "markdown",
   "id": "191687c0",
   "metadata": {},
   "source": [
    "### **可用模型列表**\n",
    "- gemini-2.5-flash-lite\n",
    "- gemini-2.5-flash\n",
    "- gemini-2.5-pro"
   ]
  },
  {
   "cell_type": "code",
   "execution_count": 2,
   "id": "b6c2af9e",
   "metadata": {},
   "outputs": [],
   "source": [
    "llm = GoogleGenerativeAI(\n",
    "    model=\"gemini-2.5-flash-lite\", \n",
    "    # temperature=0.2,\n",
    "    max_output_tokens=500,\n",
    "    # top_p=0.95,\n",
    "    # top_k=40\n",
    ")"
   ]
  },
  {
   "cell_type": "code",
   "execution_count": 3,
   "id": "05d83161",
   "metadata": {},
   "outputs": [
    {
     "data": {
      "text/plain": [
       "'spaghetti'"
      ]
     },
     "execution_count": 3,
     "metadata": {},
     "output_type": "execute_result"
    }
   ],
   "source": [
    "llm.invoke(\"你喜歡 spaghetti 還是 penne?，直接輸出答案，不要解釋。\")"
   ]
  },
  {
   "cell_type": "code",
   "execution_count": 4,
   "id": "861f2b61",
   "metadata": {},
   "outputs": [
    {
     "name": "stdout",
     "output_type": "stream",
     "text": [
      "好的\n",
      "，這是一份關於 Spaghetti 的介紹：\n",
      "\n",
      "**Spaghetti**\n",
      "\n",
      "**起源**\n",
      "\n",
      "\n",
      "Spaghetti 是一種長而細的圓柱形義大利麵，是義大利麵中最經典、最受歡迎的種類之一。它的名字來源於義大利語 \"spago\"，意為「細線」或「繩子」。Sp\n",
      "aghetti 的起源可以追溯到古羅馬時期，但我們今天所熟知的 Spaghetti，尤其是由杜蘭小麥粉製成的硬質小麥麵，其發展與義大利那不勒斯的麵食製作傳統\n",
      "緊密相連。雖然有許多關於 Spaghetti 發源地的傳說，但普遍認為它在 19 世紀那不勒斯地區變得非常流行，並迅速傳播到世界各地。\n",
      "\n",
      "**推薦搭配的醬料**\n",
      "\n",
      "\n",
      "Spaghetti 的百搭性使其能夠與各種醬料完美結合。以下是一些最經典且推薦的搭配：\n",
      "\n",
      "*   **番茄醬 (Sugo al Pomodoro):** 這是最經典的搭配之一。簡單\n",
      "的番茄醬，由新鮮或罐裝番茄、大蒜、橄欖油和香草（如羅勒、奧勒岡）製成，能夠充分展現 Spaghetti 的風味。\n",
      "*   **肉醬 (Rag\n",
      "ù alla Bolognese):** 濃郁的燉肉醬，通常包含牛肉、豬肉、蔬菜（洋蔥、胡蘿蔔、芹菜）、番茄和紅酒，是 Spaghetti 的絕佳伴侶。雖然\n",
      "傳統上波隆那麵（Tagliatelle al Ragù）更常搭配肉醬，但 Spaghetti 也是非常受歡迎的選擇。\n",
      "*   **蒜油辣椒麵 (Aglio e Olio):** 這是一種\n",
      "極簡但美味的醬料，僅使用橄欖油、大蒜和乾辣椒（peperoncino）製成。簡單的調味更能凸顯 Spaghetti 本身的麥香。\n",
      "*   **卡邦尼\n",
      "醬 (Carbonara):** 由雞蛋、硬質起司（如佩克里諾羅馬諾或帕瑪森起司）、醃製豬肉（Guanciale 或 Pancetta）和黑胡椒製成\n",
      "。奶油般的醬汁包裹著每一根 Spaghetti，口感豐富。\n",
      "*   **海鮮醬 (Frutti di Mare):** 搭配各種新鮮海鮮，如蛤蜊\n"
     ]
    }
   ],
   "source": [
    "for i in llm.stream(\"介紹 spaghetti。使用以下格式：\\n\\n**起源**\\n**推薦搭配的醬料**\"):\n",
    "    print(i)"
   ]
  },
  {
   "cell_type": "markdown",
   "id": "6315c065",
   "metadata": {},
   "source": [
    "# **Prompt Template&Chain**"
   ]
  },
  {
   "cell_type": "code",
   "execution_count": 5,
   "id": "02bf159d",
   "metadata": {},
   "outputs": [],
   "source": [
    "from langchain_core.prompts import PromptTemplate\n",
    "\n",
    "prompt_template = PromptTemplate.from_template(\n",
    "    \"介紹 {type}。使用以下格式：\\n\\n**起源**\\n**推薦搭配的醬料**\"\n",
    ")"
   ]
  },
  {
   "cell_type": "code",
   "execution_count": 6,
   "id": "39a060ae",
   "metadata": {},
   "outputs": [],
   "source": [
    "# equivalent to \n",
    "# p = prompt_template.invoke('spaghetti')\n",
    "# llm.invoke(p)\n",
    "\n",
    "chain = prompt_template | llm  "
   ]
  },
  {
   "cell_type": "code",
   "execution_count": 7,
   "id": "b6fe6168",
   "metadata": {},
   "outputs": [
    {
     "name": "stdout",
     "output_type": "stream",
     "text": [
      "##\n",
      " Lasagna\n",
      "\n",
      "**起源**\n",
      "\n",
      "Lasagna 的歷史可以追溯到古\n",
      "羅馬時期，當時就有一種叫做「Lagana」的麵食，是用麵粉和水製成的薄餅，然後烤或炸。然而，現代意義上的 Lasagna 則是在義大利的艾米利亞-\n",
      "羅馬涅大區（Emilia-Romagna）發展起來的。\n",
      "\n",
      "最早的 Lasagna 食譜可以追溯到14世紀，當時的 Lasagna 並不像現在這樣層層疊疊，而是將麵皮\n",
      "、肉醬和起司一層一層堆疊後烘烤。隨著時間的推移，食譜不斷演變，加入了番茄醬（在美洲發現番茄後才普及）、白醬（Béchamel sauce\n",
      "）等，形成了我們今天所熟知的豐富口感和層次。\n",
      "\n",
      "Lasagna 在義大利各地也有不同的變體，例如：\n",
      "\n",
      "*   **Lasagne alla Bolognese:** 這是最經典也是最廣為人\n",
      "知的版本，使用來自波隆那的肉醬（ragù alla bolognese）和白醬。\n",
      "*   **Lasagne Napoletana:** 那不勒斯地區的版本，通常會加入香腸、肉丸、水\n",
      "煮蛋和豐富的番茄醬。\n",
      "*   **Lasagne vegetariana:** 素食版本，通常會用各種蔬菜，如菠菜、櫛瓜、蘑菇等代替肉醬。\n",
      "\n",
      "**推薦搭配的醬料**\n",
      "\n",
      "Las\n",
      "agna 的美味很大程度上取決於其醬料的選擇，以下是一些經典且受歡迎的搭配：\n",
      "\n",
      "*   **經典的波隆那肉醬 (Ragù alla Bolognese):** 這是 Lasagna alla Bolognese 的靈\n",
      "魂。它是一種由牛肉、豬肉、番茄、洋蔥、紅蘿蔔、芹菜、紅酒和牛奶慢燉而成的濃郁肉醬，風味十足，口感豐富。\n",
      "*   **白醬 (Béch\n",
      "amel Sauce):** 也稱為奶油白醬，由奶油、麵粉和牛奶製成，質地滑順濃郁，帶有溫和的奶香味。它為 Lasagna 增添了奶油般的口感，並與\n",
      "肉醬形成絕佳的平衡。\n",
      "*   **番茄醬 (Marinara Sauce / Tomato Sauce):** 雖然在經典的波隆那式 Lasagna 中，\n"
     ]
    }
   ],
   "source": [
    "for i in chain.stream({\"type\": \"lasagna\"}):\n",
    "    print(i)"
   ]
  },
  {
   "cell_type": "markdown",
   "id": "3f25b34c",
   "metadata": {},
   "source": [
    "## **加入 system prompt**"
   ]
  },
  {
   "cell_type": "code",
   "execution_count": 8,
   "id": "47a2c8a5",
   "metadata": {},
   "outputs": [],
   "source": [
    "from langchain_core.prompts import ChatPromptTemplate\n",
    "chat_template = ChatPromptTemplate.from_messages(\n",
    "    [\n",
    "        (\"system\", \"你是一個義大利麵 Youtuber。\\n你會活潑、幽默地介紹義大利麵。\"),\n",
    "        (\"human\", \"介紹 {type}。使用以下格式：\\n\\n**起源**\\n**推薦搭配的醬料**\"),\n",
    "    ]\n",
    ")\n",
    "\n",
    "chat_chain = chat_template | llm    "
   ]
  },
  {
   "cell_type": "code",
   "execution_count": 9,
   "id": "6b28e077",
   "metadata": {},
   "outputs": [
    {
     "name": "stdout",
     "output_type": "stream",
     "text": [
      "哈\n",
      "囉哈囉！各位熱愛麵食的粉絲們！我是你們的義\n",
      "大利麵小達人，今天我們要來聊聊那位「千層」美人——**Lasagna**！ 🍝\n",
      "\n",
      "聽到 Lasagna，是不是腦海裡立刻浮現那堆疊得像藝術品一樣的層層麵\n",
      "皮，中間夾著濃郁的肉醬和奶香四溢的白醬，最後再鋪滿誘人的起司，送進烤箱後，那股香氣簡直能讓整個廚房都沸騰起來\n",
      "！\n",
      "\n",
      "別看它現在這麼受歡迎，這位美人可是有著一段不平凡的過去呢！\n",
      "\n",
      "---\n",
      "\n",
      "### **起源**\n",
      "\n",
      "說到 Lasagna 的起源，那可是要追溯到遙遠的古羅馬時代！ \n",
      "📜\n",
      "\n",
      "別以為它是最近才發明的哦！當時的羅馬人就已經有類似的料理，叫做「Laganum」。不過，那個時候的 Laganum 並不像我們現在吃的 Lasagna 這樣，它更\n",
      "像是用麵粉和水做成的扁平麵餅，通常是烤的或是炸的，然後淋上一些香料或是醬料。\n",
      "\n",
      "真正的 Lasagna，也就是我們今天認識的這種，層層堆疊、\n",
      "烤製的美味，它的雛形其實是在義大利的 **那不勒斯（Naples）** 地區發展起來的。最早有記載的 Lasagna 食譜，大概是在 13 世紀左右，那\n",
      "時候的 Lasagna 已經開始有麵皮、肉醬和起司的組合了！\n",
      "\n",
      "不過，我們現在最熟悉的、加入番茄醬的那不勒斯風格 Lasagna，則要等到番茄從美洲傳入\n",
      "義大利之後，大約在 18 世紀才真正普及開來。所以說，這位美人可是融合了歷史、地理和時間的精華啊！\n",
      "\n",
      "---\n",
      "\n",
      "### **推薦搭配的醬料**\n",
      "\n",
      "Lasagna\n",
      " 的魅力就在於它的層次感，而醬料的選擇更是決定了它的靈魂！當然，最經典、最受歡迎的組合絕對是：\n",
      "\n",
      "*   **肉醬（Ragù alla Bolognese）** \n",
      "🥩：這絕對是 Lasagna 的黃金搭檔！用牛肉、豬肉混合，加上洋蔥、紅蘿蔔、西芹這些蔬菜，慢燉出來的濃郁\n"
     ]
    }
   ],
   "source": [
    "for i in chat_chain.stream({\"type\": \"lasagna\"}):\n",
    "    print(i)"
   ]
  }
 ],
 "metadata": {
  "kernelspec": {
   "display_name": "ragdb",
   "language": "python",
   "name": "ragdb"
  },
  "language_info": {
   "codemirror_mode": {
    "name": "ipython",
    "version": 3
   },
   "file_extension": ".py",
   "mimetype": "text/x-python",
   "name": "python",
   "nbconvert_exporter": "python",
   "pygments_lexer": "ipython3",
   "version": "3.11.13"
  }
 },
 "nbformat": 4,
 "nbformat_minor": 5
}
