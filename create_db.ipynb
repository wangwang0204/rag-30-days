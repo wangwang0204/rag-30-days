{
 "cells": [
  {
   "cell_type": "code",
   "execution_count": 1,
   "id": "f9bc989f",
   "metadata": {},
   "outputs": [],
   "source": [
    "import os\n",
    "import docx\n",
    "import pymupdf\n",
    "import json\n",
    "\n",
    "from chromadb import PersistentClient\n",
    "from chromadb.utils.embedding_functions import GoogleGenerativeAiEmbeddingFunction\n",
    "from langchain_text_splitters import RecursiveCharacterTextSplitter, CharacterTextSplitter"
   ]
  },
  {
   "cell_type": "code",
   "execution_count": 2,
   "id": "e7c43860",
   "metadata": {},
   "outputs": [
    {
     "name": "stderr",
     "output_type": "stream",
     "text": [
      "/Users/wang/miniconda3/envs/lsai/lib/python3.11/site-packages/tqdm/auto.py:21: TqdmWarning: IProgress not found. Please update jupyter and ipywidgets. See https://ipywidgets.readthedocs.io/en/stable/user_install.html\n",
      "  from .autonotebook import tqdm as notebook_tqdm\n"
     ]
    }
   ],
   "source": [
    "vector_store = PersistentClient()\n",
    "collection = vector_store.get_or_create_collection(name=\"my_database\", embedding_function=GoogleGenerativeAiEmbeddingFunction(model_name=\"models/embedding-001\", api_key=os.getenv(\"GOOGLE_API_KEY\")))"
   ]
  },
  {
   "cell_type": "markdown",
   "id": "4a6a42fa",
   "metadata": {},
   "source": [
    "## **Chunking Strategy**\n",
    "- `.txt` and `.docx`: sliding window\n",
    "- `.md`: recursive split \n",
    "- `.pdf`: llm based arragement \n",
    "- `.json`: pure qa pairs"
   ]
  },
  {
   "cell_type": "markdown",
   "id": "f8aef69d",
   "metadata": {},
   "source": [
    "### **Load Markdown**"
   ]
  },
  {
   "cell_type": "code",
   "execution_count": 3,
   "id": "ba6b43cb",
   "metadata": {},
   "outputs": [],
   "source": [
    "def get_md_chunks(text: str) -> list:\n",
    "    text = text.replace(\"###\", \"---h3---\").replace(\"##\", \"---h2---\").replace(\"#\", \"---h1---\").replace(\"\\n\\n\", \"\\n\")\n",
    "    recursive_splitter_md = RecursiveCharacterTextSplitter(separators=[\"---h2---\", \"---h3---\", \"\\n\"], chunk_size=256)\n",
    "    md_chunks = recursive_splitter_md.split_text(text)\n",
    "    return md_chunks"
   ]
  },
  {
   "cell_type": "markdown",
   "id": "a6573b45",
   "metadata": {},
   "source": [
    "### **Load Pdf**"
   ]
  },
  {
   "cell_type": "code",
   "execution_count": 4,
   "id": "a904fa54",
   "metadata": {},
   "outputs": [],
   "source": [
    "from langchain_google_genai import GoogleGenerativeAI\n",
    "from langchain.prompts import PromptTemplate\n",
    "\n",
    "prompt_template = PromptTemplate.from_template(\"\"\"\n",
    "    請整理以下文字，用專案主題：<專案主題>\\n**標題：<標題>內容：<內容>**\\n\\n**標題：<標題>內容：<內容>**\\n\\n ...... 的格式回傳。{pdf_text}\"\"\")\n",
    "pdf_arranger = prompt_template | GoogleGenerativeAI(model=\"gemini-2.5-flash-lite\")\n",
    "\n",
    "def get_pdf_chunks(text: str) -> list:\n",
    "    formatted_text = pdf_arranger.invoke({\"pdf_text\": text})\n",
    "    splitter = RecursiveCharacterTextSplitter(separators=[\"\\n\\n\", \"\\n\"], chunk_size=256, chunk_overlap=128)\n",
    "    pdf_chunks = splitter.split_text(formatted_text)\n",
    "    return pdf_chunks"
   ]
  },
  {
   "cell_type": "markdown",
   "id": "1e894c1c",
   "metadata": {},
   "source": [
    "### **Load Docx and txt**"
   ]
  },
  {
   "cell_type": "code",
   "execution_count": 5,
   "id": "55df40df",
   "metadata": {},
   "outputs": [],
   "source": [
    "def get_docx_and_txt_chunks(text: str) -> list:\n",
    "    splitter = CharacterTextSplitter(chunk_size=256, chunk_overlap=128, separator=\"\\n\")\n",
    "    txt_chunks = splitter.split_text(text)\n",
    "    return txt_chunks"
   ]
  },
  {
   "cell_type": "markdown",
   "id": "19cd0914",
   "metadata": {},
   "source": [
    "### **Load Json**"
   ]
  },
  {
   "cell_type": "code",
   "execution_count": 6,
   "id": "ab3261d0",
   "metadata": {},
   "outputs": [],
   "source": [
    "def get_json_chunks(data: dict) -> list:\n",
    "    return [str(item) for item in data]"
   ]
  },
  {
   "cell_type": "markdown",
   "id": "f270ce68",
   "metadata": {},
   "source": [
    "# **Add Documents**"
   ]
  },
  {
   "cell_type": "code",
   "execution_count": 7,
   "id": "bcdbeca8",
   "metadata": {},
   "outputs": [],
   "source": [
    "for file in os.listdir(\"raw_database\"):\n",
    "    file_path = os.path.join(\"raw_database\", file)\n",
    "    if file.endswith(\".txt\"):\n",
    "        with open(file_path, \"r\", encoding=\"utf-8\") as f:\n",
    "            text = f.read()\n",
    "        chunks = get_docx_and_txt_chunks(text)\n",
    "    elif file.endswith(\".docx\"):\n",
    "        doc = docx.Document(file_path)\n",
    "        text = \"\\n\".join(paragraph.text for paragraph in doc.paragraphs)\n",
    "        chunks = get_docx_and_txt_chunks(text)\n",
    "    elif file.endswith(\".md\"):\n",
    "        with open(file_path, \"r\", encoding=\"utf-8\") as f:\n",
    "            text = f.read()\n",
    "        chunks = get_md_chunks(text)\n",
    "    elif file.endswith(\".pdf\"):\n",
    "        doc = pymupdf.open(file_path)\n",
    "        text = \"\\n\".join(page.get_text() for page in doc)\n",
    "        chunks = get_pdf_chunks(text)\n",
    "    elif file.endswith(\".json\"):\n",
    "        with open(file_path, \"r\", encoding=\"utf-8\") as f:\n",
    "            data = json.load(f)\n",
    "        chunks = get_json_chunks(data)\n",
    "    else:\n",
    "        continue\n",
    "\n",
    "    collection.add(\n",
    "        documents=chunks,\n",
    "        metadatas=[{\"source\": file, \"chunk_index\": i} for i in range(len(chunks))],\n",
    "        ids=[f\"{file}_{i}\" for i in range(len(chunks))]\n",
    "    )"
   ]
  }
 ],
 "metadata": {
  "kernelspec": {
   "display_name": "lsai",
   "language": "python",
   "name": "lsai"
  },
  "language_info": {
   "codemirror_mode": {
    "name": "ipython",
    "version": 3
   },
   "file_extension": ".py",
   "mimetype": "text/x-python",
   "name": "python",
   "nbconvert_exporter": "python",
   "pygments_lexer": "ipython3",
   "version": "3.11.8"
  }
 },
 "nbformat": 4,
 "nbformat_minor": 5
}
