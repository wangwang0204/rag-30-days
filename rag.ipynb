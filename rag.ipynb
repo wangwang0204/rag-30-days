{
 "cells": [
  {
   "cell_type": "code",
   "execution_count": 9,
   "id": "b134c60b",
   "metadata": {},
   "outputs": [],
   "source": [
    "from langchain_chroma import Chroma\n",
    "from langchain_google_genai import GoogleGenerativeAIEmbeddings, ChatGoogleGenerativeAI\n",
    "\n",
    "vector_store = Chroma(\n",
    "    collection_name=\"my_database\",\n",
    "    embedding_function=GoogleGenerativeAIEmbeddings(model=\"models/embedding-001\"),  \n",
    "    persist_directory=\"chroma\",\n",
    ")"
   ]
  },
  {
   "cell_type": "code",
   "execution_count": 12,
   "id": "88855cbc",
   "metadata": {},
   "outputs": [],
   "source": [
    "retriever = vector_store.as_retriever(\n",
    "    search_type=\"similarity\",\n",
    "    search_kwargs={\"k\": 5},\n",
    ")"
   ]
  },
  {
   "cell_type": "code",
   "execution_count": 13,
   "id": "1422302f",
   "metadata": {},
   "outputs": [],
   "source": [
    "llm = ChatGoogleGenerativeAI(model=\"gemini-2.5-flash-lite\")"
   ]
  },
  {
   "cell_type": "code",
   "execution_count": 14,
   "id": "8e079718",
   "metadata": {},
   "outputs": [],
   "source": [
    "from langchain.prompts import PromptTemplate\n",
    "from langchain.chains.combine_documents import create_stuff_documents_chain\n",
    "from langchain.chains.retrieval import create_retrieval_chain\n",
    "\n",
    "prompt = PromptTemplate.from_template(\n",
    "    \"你是 Rasmus 的履歷助手，負責依據資料庫回覆使用者的問題。如果你不知道，請直接說不知道。\\n **context**: {context}\\n\\n **input**: {input}\\n\\n\"\n",
    ")\n",
    "\n",
    "combine_docs_chain = create_stuff_documents_chain(\n",
    "    llm, prompt\n",
    ")\n",
    "\n",
    "retrieval_chain = create_retrieval_chain(retriever, combine_docs_chain)"
   ]
  },
  {
   "cell_type": "code",
   "execution_count": 15,
   "id": "8df023b8",
   "metadata": {},
   "outputs": [
    {
     "data": {
      "text/plain": [
       "{'input': 'Rasmus 如何開啟對行銷的興趣？',\n",
       " 'context': [Document(id='info_self_introduction.md_1', metadata={'chunk_index': 1, 'source': 'info_self_introduction.md'}, page_content='---h2--- 我的故事：在理性與感性之間成長\\n我叫朱畇熙，英文名 Rasmus，這個名字背後有個有趣的故事。我的父親是位嚴謹的會計師，從小教育我「數字不會說謊」；母親則是位熱愛文學與藝術的老師，鼓勵我「故事能感動人心」。\\n我成長在這樣一個理性與感性交織的家庭，學會了用嚴謹的眼光觀察世界，也學會了用溫暖的筆觸描繪生活。或許正是因為如此，我在面對會計系密密麻麻的數字時，總能想起母親教我的故事結構；而在撰寫行銷文案時，父親的數字思維又能幫助我評估成效。'),\n",
       "  Document(id='info_self_introduction.md_0', metadata={'chunk_index': 0, 'source': 'info_self_introduction.md'}, page_content='---h1--- 關於 Rasmus Zhu：從會計數字到品牌敘事'),\n",
       "  Document(id='project_marketing_comp.pdf_0', metadata={'chunk_index': 0, 'source': 'project_marketing_comp.pdf'}, page_content='專案主題：IKEA 學生市場推廣行銷企劃\\n\\n標題：任務\\n內容：在行銷管理課程中，我們被賦予任務，為 IKEA 規劃一套針對中部學生市場的行銷方案，以推廣其學生家具系列。'),\n",
       "  Document(id='project_marketing_proposal.pdf_1', metadata={'chunk_index': 1, 'source': 'project_marketing_proposal.pdf'}, page_content='**標題：情境**\\n**內容：** 參與全國大專行銷挑戰賽，為「XYZ 能量飲料」在競爭激烈的市場中，提出創新的行銷策略，吸引年輕客群。\\n\\n**標題：行動**\\n**內容：**\\n*   目標客群鎖定：透過深入訪談與問卷調查，精準定位 18–25 歲的「熬夜族群」。\\n*   產品差異化：提出「無糖 + 補鋅」的健康訴求，與市場上主打高糖分的競品區隔。\\n*   行銷活動設計：規劃「#一夜充能」短影音挑戰，並與大學生 YouTuber 合作直播，將品牌價值融入大學生活情境。'),\n",
       "  Document(id='info_self_introduction.md_5', metadata={'chunk_index': 5, 'source': 'info_self_introduction.md'}, page_content='---h2--- 跨出舒適圈：從會計人到提案者\\n除了自媒體，我也積極參與各種行銷競賽與課程專案，將我的行銷思維推向實戰。')],\n",
       " 'answer': 'Rasmus 的父親是位嚴謹的會計師，從小教育他「數字不會說謊」；母親則是位熱愛文學與藝術的老師，鼓勵他「故事能感動人心」。他在這樣一個理性與感性交織的家庭中成長，學會了用嚴謹的眼光觀察世界，也學會了用溫暖的筆觸描繪生活。或許正是因為如此，他在面對會計系密密麻麻的數字時，總能想起母親教他的故事結構；而在撰寫行銷文案時，父親的數字思維又能幫助他評估成效。'}"
      ]
     },
     "execution_count": 15,
     "metadata": {},
     "output_type": "execute_result"
    }
   ],
   "source": [
    "retrieval_chain.invoke(\n",
    "    {\"input\": \"Rasmus 如何開啟對行銷的興趣？\"}\n",
    ")"
   ]
  }
 ],
 "metadata": {
  "kernelspec": {
   "display_name": "lsai",
   "language": "python",
   "name": "lsai"
  },
  "language_info": {
   "codemirror_mode": {
    "name": "ipython",
    "version": 3
   },
   "file_extension": ".py",
   "mimetype": "text/x-python",
   "name": "python",
   "nbconvert_exporter": "python",
   "pygments_lexer": "ipython3",
   "version": "3.11.8"
  }
 },
 "nbformat": 4,
 "nbformat_minor": 5
}
