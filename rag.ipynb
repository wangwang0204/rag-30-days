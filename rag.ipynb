{
 "cells": [
  {
   "cell_type": "code",
   "execution_count": 2,
   "id": "b134c60b",
   "metadata": {},
   "outputs": [],
   "source": [
    "from langchain_community.vectorstores import FAISS\n",
    "from langchain_google_genai import GoogleGenerativeAIEmbeddings, ChatGoogleGenerativeAI\n",
    "\n",
    "vector_store = FAISS.load_local(\n",
    "    \"vector_store\", \n",
    "    GoogleGenerativeAIEmbeddings(model=\"models/gemini-embedding-001\"), \n",
    "    allow_dangerous_deserialization=True\n",
    ")"
   ]
  },
  {
   "cell_type": "code",
   "execution_count": 3,
   "id": "88855cbc",
   "metadata": {},
   "outputs": [],
   "source": [
    "retriever = vector_store.as_retriever(\n",
    "    search_type=\"similarity\",\n",
    "    search_kwargs={\"k\": 5},\n",
    ")"
   ]
  },
  {
   "cell_type": "code",
   "execution_count": 4,
   "id": "1422302f",
   "metadata": {},
   "outputs": [],
   "source": [
    "llm = ChatGoogleGenerativeAI(model=\"gemini-2.5-flash-lite\")"
   ]
  },
  {
   "cell_type": "code",
   "execution_count": 5,
   "id": "8e079718",
   "metadata": {},
   "outputs": [],
   "source": [
    "from langchain.prompts import PromptTemplate\n",
    "from langchain.chains.combine_documents import create_stuff_documents_chain\n",
    "from langchain.chains.retrieval import create_retrieval_chain\n",
    "\n",
    "prompt = PromptTemplate.from_template(\n",
    "    \"你是 Rasmus 的履歷助手，負責依據資料庫回覆使用者的問題。如果你不知道，請直接說不知道。\\n **context**: {context}\\n\\n **input**: {input}\\n\\n\"\n",
    ")\n",
    "\n",
    "combine_docs_chain = create_stuff_documents_chain(\n",
    "    llm, prompt\n",
    ")\n",
    "\n",
    "retrieval_chain = create_retrieval_chain(retriever, combine_docs_chain)"
   ]
  },
  {
   "cell_type": "code",
   "execution_count": 6,
   "id": "8df023b8",
   "metadata": {},
   "outputs": [
    {
     "data": {
      "text/plain": [
       "{'input': 'Rasmus 如何開啟對行銷的興趣？',\n",
       " 'context': [Document(id='info_self_introduction.md_0', metadata={'source': 'info_self_introduction.md', 'chunk_index': 0, 'last_update': 1754417214.740303}, page_content='---h1--- 關於 Rasmus Zhu：從會計數字到品牌敘事'),\n",
       "  Document(id='info_self_introduction.md_1', metadata={'source': 'info_self_introduction.md', 'chunk_index': 1, 'last_update': 1754417214.7403111}, page_content='---h2--- 我的故事：在理性與感性之間成長\\n我叫朱畇熙，英文名 Rasmus，這個名字背後有個有趣的故事。我的父親是位嚴謹的會計師，從小教育我「數字不會說謊」；母親則是位熱愛文學與藝術的老師，鼓勵我「故事能感動人心」。\\n我成長在這樣一個理性與感性交織的家庭，學會了用嚴謹的眼光觀察世界，也學會了用溫暖的筆觸描繪生活。或許正是因為如此，我在面對會計系密密麻麻的數字時，總能想起母親教我的故事結構；而在撰寫行銷文案時，父親的數字思維又能幫助我評估成效。'),\n",
       "  Document(id='info_self_introduction.md_2', metadata={'source': 'info_self_introduction.md', 'chunk_index': 2, 'last_update': 1754417214.740313}, page_content='---h3--- 會計背景的起點\\n會計系是我大學聯考時的選擇，當時我認為這是最「務實」的科系，能為我打下紮實的商業基礎。我並不排斥數字，反倒享受從海量資料中抽絲剝繭的過程。\\n---h3--- 發現行銷的轉捩點\\n大二那年，我開始感到一絲迷惘。在一次實習中，我看到許多企業在財報上表現亮眼，卻在市場上聲量低迷，我才意識到，**一個品牌的成功不單單是財務上的健全，更需要動人的故事與精準的溝通**。從那時起，我開始積極探索行銷領域，希望能將我的數字分析能力，與品牌敘事結合。'),\n",
       "  Document(id='info_self_introduction.md_5', metadata={'source': 'info_self_introduction.md', 'chunk_index': 5, 'last_update': 1754417214.740319}, page_content='---h2--- 跨出舒適圈：從會計人到提案者\\n除了自媒體，我也積極參與各種行銷競賽與課程專案，將我的行銷思維推向實戰。'),\n",
       "  Document(id='qa.json_15', metadata={'source': 'qa.json', 'chunk_index': 15, 'last_update': 1754417214.711767}, page_content=\"{'question': '您是如何選擇目前的學習領域或職涯方向的？有什麼關鍵影響因素？', 'answer': '我的職涯選擇源於一個跨領域的探索過程。我來自一個『理性與感性交織』的家庭，父親是會計師，母親是老師，因此我選擇了會計系作為務實的起點。然而，在學習過程中，我發現自己對運用『創意敘事』來影響他人的行銷領域產生了濃厚的興趣。我透過創立IG專頁、參與課程專案和行銷競賽來探索這個領域，最終發現自己能將會計的嚴謹數字思維與行銷的創意敘事完美結合，這成為我選擇行銷作為未來職涯方向的關鍵因素。', 'category': 'school'}\")],\n",
       " 'answer': 'Rasmus 開始對行銷產生興趣，是因為他在一次實習中觀察到，有些企業雖然財報表現亮眼，但在市場上的聲量卻不高。這讓他意識到，品牌的成功不僅是財務健全，更需要動人的故事和精準的溝通。從那時起，他開始積極探索行銷領域，希望能將他的數字分析能力與品牌敘事結合。'}"
      ]
     },
     "execution_count": 6,
     "metadata": {},
     "output_type": "execute_result"
    }
   ],
   "source": [
    "retrieval_chain.invoke(\n",
    "    {\"input\": \"Rasmus 如何開啟對行銷的興趣？\"}\n",
    ")"
   ]
  }
 ],
 "metadata": {
  "kernelspec": {
   "display_name": "ragdb",
   "language": "python",
   "name": "ragdb"
  },
  "language_info": {
   "codemirror_mode": {
    "name": "ipython",
    "version": 3
   },
   "file_extension": ".py",
   "mimetype": "text/x-python",
   "name": "python",
   "nbconvert_exporter": "python",
   "pygments_lexer": "ipython3",
   "version": "3.11.13"
  }
 },
 "nbformat": 4,
 "nbformat_minor": 5
}
