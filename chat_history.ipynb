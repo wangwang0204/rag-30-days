{
 "cells": [
  {
   "cell_type": "code",
   "execution_count": null,
   "id": "e7c5aaa5",
   "metadata": {},
   "outputs": [],
   "source": [
    "from langchain_google_genai import GoogleGenerativeAI\n",
    "from langchain_core.prompts import ChatPromptTemplate"
   ]
  }
 ],
 "metadata": {
  "kernelspec": {
   "display_name": "lsai",
   "language": "python",
   "name": "lsai"
  },
  "language_info": {
   "name": "python",
   "version": "3.11.8"
  }
 },
 "nbformat": 4,
 "nbformat_minor": 5
}
